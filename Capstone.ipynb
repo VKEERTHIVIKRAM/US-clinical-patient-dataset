{
  "nbformat": 4,
  "nbformat_minor": 0,
  "metadata": {
    "language_info": {
      "codemirror_mode": {
        "name": "ipython",
        "version": 3
      },
      "file_extension": ".py",
      "mimetype": "text/x-python",
      "name": "python",
      "nbconvert_exporter": "python",
      "pygments_lexer": "ipython3",
      "version": 3
    },
    "orig_nbformat": 2,
    "kernelspec": {
      "name": "python_defaultSpec_1594789438091",
      "display_name": "Python 3.7.6 64-bit (conda)"
    },
    "colab": {
      "name": "Capstone.ipynb",
      "provenance": [],
      "collapsed_sections": []
    }
  },
  "cells": [
    {
      "cell_type": "code",
      "metadata": {
        "tags": [],
        "id": "yxubvqDzGBvz",
        "colab_type": "code",
        "colab": {},
        "outputId": "1bad68a5-94ec-471b-efc8-6cf2b67fa722"
      },
      "source": [
        "import pandas as pd\n",
        "import numpy as np\n",
        "import tensorflow as tf\n",
        "import OrignalFunctionsVikram as ofv"
      ],
      "execution_count": null,
      "outputs": [
        {
          "output_type": "stream",
          "text": [
            "time: 1min 43s\n"
          ],
          "name": "stdout"
        }
      ]
    },
    {
      "cell_type": "code",
      "metadata": {
        "tags": [],
        "id": "M1rTJf9KGBwG",
        "colab_type": "code",
        "colab": {},
        "outputId": "4be028fd-3d67-4177-cec3-a36e304437f1"
      },
      "source": [
        "df = pd.read_csv('US_clinical_patient_database.csv')"
      ],
      "execution_count": null,
      "outputs": [
        {
          "output_type": "stream",
          "text": [
            "time: 3.19 s\n"
          ],
          "name": "stdout"
        }
      ]
    },
    {
      "cell_type": "code",
      "metadata": {
        "tags": [],
        "id": "6vXVWfgfGBwS",
        "colab_type": "code",
        "colab": {},
        "outputId": "50b32e66-f878-42d9-8549-7792f5cd2ebf"
      },
      "source": [
        "df.shape"
      ],
      "execution_count": null,
      "outputs": [
        {
          "output_type": "execute_result",
          "data": {
            "text/plain": [
              "(101766, 50)"
            ]
          },
          "metadata": {
            "tags": []
          },
          "execution_count": 3
        },
        {
          "output_type": "stream",
          "text": [
            "time: 21 ms\n"
          ],
          "name": "stdout"
        }
      ]
    },
    {
      "cell_type": "code",
      "metadata": {
        "tags": [],
        "id": "IdArIcrVGBwf",
        "colab_type": "code",
        "colab": {},
        "outputId": "f813d55e-eb5a-452e-b6fb-a564cb4e638d"
      },
      "source": [
        "def missing_values_table(df):\n",
        "    # Total missing values\n",
        "    mis_val = df.isnull().sum()\n",
        "\n",
        "    # Percentage of missing values\n",
        "    mis_val_percent = 100 * df.isnull().sum() / len(df)\n",
        "\n",
        "    # Make a table with the results\n",
        "    mis_val_table = pd.concat([mis_val, mis_val_percent], axis=1)\n",
        "\n",
        "    # Rename the columns\n",
        "    mis_val_table_ren_columns = mis_val_table.rename(columns={\n",
        "        0: 'Missing Values',\n",
        "        1: '% of Total Values'\n",
        "    })\n",
        "\n",
        "    # Sort the table by percentage of missing descending\n",
        "    mis_val_table_ren_columns = mis_val_table_ren_columns[\n",
        "        mis_val_table_ren_columns.iloc[:, 1] != 0].sort_values(\n",
        "            '% of Total Values', ascending=False).round(1)\n",
        "\n",
        "    # Print some summary information\n",
        "    print(\"Your selected dataframe has \" + str(df.shape[1]) + \" columns.\\n\"\n",
        "          \"There are \" + str(mis_val_table_ren_columns.shape[0]) +\n",
        "          \" columns that have missing values.\")\n",
        "\n",
        "    # Return the dataframe with missing information\n",
        "    return mis_val_table_ren_columns "
      ],
      "execution_count": null,
      "outputs": [
        {
          "output_type": "stream",
          "text": [
            "time: 5 ms\n"
          ],
          "name": "stdout"
        }
      ]
    },
    {
      "cell_type": "code",
      "metadata": {
        "tags": [],
        "id": "bJAUbjCFGBwv",
        "colab_type": "code",
        "colab": {},
        "outputId": "328faed9-a4be-4214-87ae-692d11ae154f"
      },
      "source": [
        "df.replace('?',np.NaN,inplace=True)"
      ],
      "execution_count": null,
      "outputs": [
        {
          "output_type": "stream",
          "text": [
            "time: 495 ms\n"
          ],
          "name": "stdout"
        }
      ]
    },
    {
      "cell_type": "code",
      "metadata": {
        "tags": [],
        "id": "N-ZznNJiGBxO",
        "colab_type": "code",
        "colab": {},
        "outputId": "e3f5a4e9-c945-41ad-d01a-8d8735be1217"
      },
      "source": [
        "missing_values_table(df)"
      ],
      "execution_count": null,
      "outputs": [
        {
          "output_type": "stream",
          "text": [
            "Your selected dataframe has 50 columns.\n",
            "There are 7 columns that have missing values.\n"
          ],
          "name": "stdout"
        },
        {
          "output_type": "execute_result",
          "data": {
            "text/plain": [
              "                   Missing Values  % of Total Values\n",
              "weight                      98569               96.9\n",
              "medical_specialty           49949               49.1\n",
              "payer_code                  40256               39.6\n",
              "race                         2273                2.2\n",
              "diag_3                       1423                1.4\n",
              "diag_2                        358                0.4\n",
              "diag_1                         21                0.0"
            ],
            "text/html": [
              "<div>\n",
              "<style scoped>\n",
              "    .dataframe tbody tr th:only-of-type {\n",
              "        vertical-align: middle;\n",
              "    }\n",
              "\n",
              "    .dataframe tbody tr th {\n",
              "        vertical-align: top;\n",
              "    }\n",
              "\n",
              "    .dataframe thead th {\n",
              "        text-align: right;\n",
              "    }\n",
              "</style>\n",
              "<table border=\"1\" class=\"dataframe\">\n",
              "  <thead>\n",
              "    <tr style=\"text-align: right;\">\n",
              "      <th></th>\n",
              "      <th>Missing Values</th>\n",
              "      <th>% of Total Values</th>\n",
              "    </tr>\n",
              "  </thead>\n",
              "  <tbody>\n",
              "    <tr>\n",
              "      <th>weight</th>\n",
              "      <td>98569</td>\n",
              "      <td>96.9</td>\n",
              "    </tr>\n",
              "    <tr>\n",
              "      <th>medical_specialty</th>\n",
              "      <td>49949</td>\n",
              "      <td>49.1</td>\n",
              "    </tr>\n",
              "    <tr>\n",
              "      <th>payer_code</th>\n",
              "      <td>40256</td>\n",
              "      <td>39.6</td>\n",
              "    </tr>\n",
              "    <tr>\n",
              "      <th>race</th>\n",
              "      <td>2273</td>\n",
              "      <td>2.2</td>\n",
              "    </tr>\n",
              "    <tr>\n",
              "      <th>diag_3</th>\n",
              "      <td>1423</td>\n",
              "      <td>1.4</td>\n",
              "    </tr>\n",
              "    <tr>\n",
              "      <th>diag_2</th>\n",
              "      <td>358</td>\n",
              "      <td>0.4</td>\n",
              "    </tr>\n",
              "    <tr>\n",
              "      <th>diag_1</th>\n",
              "      <td>21</td>\n",
              "      <td>0.0</td>\n",
              "    </tr>\n",
              "  </tbody>\n",
              "</table>\n",
              "</div>"
            ]
          },
          "metadata": {
            "tags": []
          },
          "execution_count": 6
        },
        {
          "output_type": "stream",
          "text": [
            "time: 1.91 s\n"
          ],
          "name": "stdout"
        }
      ]
    },
    {
      "cell_type": "code",
      "metadata": {
        "tags": [],
        "id": "xS-ag_miGBxZ",
        "colab_type": "code",
        "colab": {},
        "outputId": "461a84a8-fafa-4fad-cbc7-9afc14dfc501"
      },
      "source": [
        "df.drop(['weight','medical_specialty','payer_code'],axis=1,inplace=True)"
      ],
      "execution_count": null,
      "outputs": [
        {
          "output_type": "stream",
          "text": [
            "time: 109 ms\n"
          ],
          "name": "stdout"
        }
      ]
    },
    {
      "cell_type": "code",
      "metadata": {
        "tags": [],
        "id": "VSPzktqKGBx3",
        "colab_type": "code",
        "colab": {},
        "outputId": "1d56bb98-3b5e-49a1-8daf-2ff805011ab1"
      },
      "source": [
        "missing_values_table(df)"
      ],
      "execution_count": null,
      "outputs": [
        {
          "output_type": "stream",
          "text": [
            "Your selected dataframe has 47 columns.\n",
            "There are 4 columns that have missing values.\n"
          ],
          "name": "stdout"
        },
        {
          "output_type": "execute_result",
          "data": {
            "text/plain": [
              "        Missing Values  % of Total Values\n",
              "race              2273                2.2\n",
              "diag_3            1423                1.4\n",
              "diag_2             358                0.4\n",
              "diag_1              21                0.0"
            ],
            "text/html": [
              "<div>\n",
              "<style scoped>\n",
              "    .dataframe tbody tr th:only-of-type {\n",
              "        vertical-align: middle;\n",
              "    }\n",
              "\n",
              "    .dataframe tbody tr th {\n",
              "        vertical-align: top;\n",
              "    }\n",
              "\n",
              "    .dataframe thead th {\n",
              "        text-align: right;\n",
              "    }\n",
              "</style>\n",
              "<table border=\"1\" class=\"dataframe\">\n",
              "  <thead>\n",
              "    <tr style=\"text-align: right;\">\n",
              "      <th></th>\n",
              "      <th>Missing Values</th>\n",
              "      <th>% of Total Values</th>\n",
              "    </tr>\n",
              "  </thead>\n",
              "  <tbody>\n",
              "    <tr>\n",
              "      <th>race</th>\n",
              "      <td>2273</td>\n",
              "      <td>2.2</td>\n",
              "    </tr>\n",
              "    <tr>\n",
              "      <th>diag_3</th>\n",
              "      <td>1423</td>\n",
              "      <td>1.4</td>\n",
              "    </tr>\n",
              "    <tr>\n",
              "      <th>diag_2</th>\n",
              "      <td>358</td>\n",
              "      <td>0.4</td>\n",
              "    </tr>\n",
              "    <tr>\n",
              "      <th>diag_1</th>\n",
              "      <td>21</td>\n",
              "      <td>0.0</td>\n",
              "    </tr>\n",
              "  </tbody>\n",
              "</table>\n",
              "</div>"
            ]
          },
          "metadata": {
            "tags": []
          },
          "execution_count": 8
        },
        {
          "output_type": "stream",
          "text": [
            "time: 1.82 s\n"
          ],
          "name": "stdout"
        }
      ]
    },
    {
      "cell_type": "code",
      "metadata": {
        "tags": [],
        "id": "iNsfiyjYGByS",
        "colab_type": "code",
        "colab": {},
        "outputId": "ae0152d9-5a06-406e-9a3b-26363b70fb24"
      },
      "source": [
        "df['race'] = df['race'].fillna(df['race'].mode()[0])"
      ],
      "execution_count": null,
      "outputs": [
        {
          "output_type": "stream",
          "text": [
            "time: 50.5 ms\n"
          ],
          "name": "stdout"
        }
      ]
    },
    {
      "cell_type": "code",
      "metadata": {
        "tags": [],
        "id": "T2FB9tIGGByc",
        "colab_type": "code",
        "colab": {},
        "outputId": "bfbde1cb-708f-4287-bece-66b628be0871"
      },
      "source": [
        "l = ['diag_3','diag_2','diag_1']"
      ],
      "execution_count": null,
      "outputs": [
        {
          "output_type": "stream",
          "text": [
            "time: 2 ms\n"
          ],
          "name": "stdout"
        }
      ]
    },
    {
      "cell_type": "code",
      "metadata": {
        "tags": [],
        "id": "EPxy9qyeGBym",
        "colab_type": "code",
        "colab": {},
        "outputId": "dc5e2fde-d729-419a-86b1-f8afbdad53ca"
      },
      "source": [
        "for i in l:\n",
        "    df[i] = df[i].fillna('No Diagnosis Done')"
      ],
      "execution_count": null,
      "outputs": [
        {
          "output_type": "stream",
          "text": [
            "time: 62 ms\n"
          ],
          "name": "stdout"
        }
      ]
    },
    {
      "cell_type": "code",
      "metadata": {
        "tags": [],
        "id": "yhzD3ELhGByx",
        "colab_type": "code",
        "colab": {},
        "outputId": "3b1969cc-b1f8-4b04-de75-854d36f2721e"
      },
      "source": [
        "missing_values_table(df)"
      ],
      "execution_count": null,
      "outputs": [
        {
          "output_type": "stream",
          "text": [
            "Your selected dataframe has 47 columns.\n",
            "There are 0 columns that have missing values.\n"
          ],
          "name": "stdout"
        },
        {
          "output_type": "execute_result",
          "data": {
            "text/plain": [
              "Empty DataFrame\n",
              "Columns: [Missing Values, % of Total Values]\n",
              "Index: []"
            ],
            "text/html": [
              "<div>\n",
              "<style scoped>\n",
              "    .dataframe tbody tr th:only-of-type {\n",
              "        vertical-align: middle;\n",
              "    }\n",
              "\n",
              "    .dataframe tbody tr th {\n",
              "        vertical-align: top;\n",
              "    }\n",
              "\n",
              "    .dataframe thead th {\n",
              "        text-align: right;\n",
              "    }\n",
              "</style>\n",
              "<table border=\"1\" class=\"dataframe\">\n",
              "  <thead>\n",
              "    <tr style=\"text-align: right;\">\n",
              "      <th></th>\n",
              "      <th>Missing Values</th>\n",
              "      <th>% of Total Values</th>\n",
              "    </tr>\n",
              "  </thead>\n",
              "  <tbody>\n",
              "  </tbody>\n",
              "</table>\n",
              "</div>"
            ]
          },
          "metadata": {
            "tags": []
          },
          "execution_count": 12
        },
        {
          "output_type": "stream",
          "text": [
            "time: 2.05 s\n"
          ],
          "name": "stdout"
        }
      ]
    },
    {
      "cell_type": "markdown",
      "metadata": {
        "id": "JpfnVsWqGBy-",
        "colab_type": "text"
      },
      "source": [
        "df.to_csv('new_file_1.csv',index=False)"
      ]
    },
    {
      "cell_type": "code",
      "metadata": {
        "tags": [],
        "id": "pP7AreRZGBzE",
        "colab_type": "code",
        "colab": {},
        "outputId": "9bfb3b4b-d82e-459f-9937-4989237e4713"
      },
      "source": [
        "df.drop(['encounter_id','patient_nbr'],axis=1,inplace=True)"
      ],
      "execution_count": null,
      "outputs": [
        {
          "output_type": "stream",
          "text": [
            "time: 186 ms\n"
          ],
          "name": "stdout"
        }
      ]
    },
    {
      "cell_type": "code",
      "metadata": {
        "tags": [],
        "id": "pJfpHR1dGBzW",
        "colab_type": "code",
        "colab": {},
        "outputId": "eec30d93-97cf-44a4-a074-9729bcfce09b"
      },
      "source": [
        "df"
      ],
      "execution_count": null,
      "outputs": [
        {
          "output_type": "execute_result",
          "data": {
            "text/plain": [
              "                   race  gender      age  admission_type_id  \\\n",
              "0             Caucasian  Female   [0-10)                  6   \n",
              "1             Caucasian  Female  [10-20)                  1   \n",
              "2       AfricanAmerican  Female  [20-30)                  1   \n",
              "3             Caucasian    Male  [30-40)                  1   \n",
              "4             Caucasian    Male  [40-50)                  1   \n",
              "...                 ...     ...      ...                ...   \n",
              "101761  AfricanAmerican    Male  [70-80)                  1   \n",
              "101762  AfricanAmerican  Female  [80-90)                  1   \n",
              "101763        Caucasian    Male  [70-80)                  1   \n",
              "101764        Caucasian  Female  [80-90)                  2   \n",
              "101765        Caucasian    Male  [70-80)                  1   \n",
              "\n",
              "        discharge_disposition_id  admission_source_id  time_in_hospital  \\\n",
              "0                             25                    1                 1   \n",
              "1                              1                    7                 3   \n",
              "2                              1                    7                 2   \n",
              "3                              1                    7                 2   \n",
              "4                              1                    7                 1   \n",
              "...                          ...                  ...               ...   \n",
              "101761                         3                    7                 3   \n",
              "101762                         4                    5                 5   \n",
              "101763                         1                    7                 1   \n",
              "101764                         3                    7                10   \n",
              "101765                         1                    7                 6   \n",
              "\n",
              "        num_lab_procedures  num_procedures  num_medications  ...  citoglipton  \\\n",
              "0                       41               0                1  ...           No   \n",
              "1                       59               0               18  ...           No   \n",
              "2                       11               5               13  ...           No   \n",
              "3                       44               1               16  ...           No   \n",
              "4                       51               0                8  ...           No   \n",
              "...                    ...             ...              ...  ...          ...   \n",
              "101761                  51               0               16  ...           No   \n",
              "101762                  33               3               18  ...           No   \n",
              "101763                  53               0                9  ...           No   \n",
              "101764                  45               2               21  ...           No   \n",
              "101765                  13               3                3  ...           No   \n",
              "\n",
              "        insulin  glyburide-metformin glipizide-metformin  \\\n",
              "0            No                   No                  No   \n",
              "1            Up                   No                  No   \n",
              "2            No                   No                  No   \n",
              "3            Up                   No                  No   \n",
              "4        Steady                   No                  No   \n",
              "...         ...                  ...                 ...   \n",
              "101761     Down                   No                  No   \n",
              "101762   Steady                   No                  No   \n",
              "101763     Down                   No                  No   \n",
              "101764       Up                   No                  No   \n",
              "101765       No                   No                  No   \n",
              "\n",
              "       glimepiride-pioglitazone metformin-rosiglitazone  \\\n",
              "0                            No                      No   \n",
              "1                            No                      No   \n",
              "2                            No                      No   \n",
              "3                            No                      No   \n",
              "4                            No                      No   \n",
              "...                         ...                     ...   \n",
              "101761                       No                      No   \n",
              "101762                       No                      No   \n",
              "101763                       No                      No   \n",
              "101764                       No                      No   \n",
              "101765                       No                      No   \n",
              "\n",
              "        metformin-pioglitazone change diabetesMed readmitted  \n",
              "0                           No     No          No         NO  \n",
              "1                           No     Ch         Yes        >30  \n",
              "2                           No     No         Yes         NO  \n",
              "3                           No     Ch         Yes         NO  \n",
              "4                           No     Ch         Yes         NO  \n",
              "...                        ...    ...         ...        ...  \n",
              "101761                      No     Ch         Yes        >30  \n",
              "101762                      No     No         Yes         NO  \n",
              "101763                      No     Ch         Yes         NO  \n",
              "101764                      No     Ch         Yes         NO  \n",
              "101765                      No     No          No         NO  \n",
              "\n",
              "[101766 rows x 45 columns]"
            ],
            "text/html": [
              "<div>\n",
              "<style scoped>\n",
              "    .dataframe tbody tr th:only-of-type {\n",
              "        vertical-align: middle;\n",
              "    }\n",
              "\n",
              "    .dataframe tbody tr th {\n",
              "        vertical-align: top;\n",
              "    }\n",
              "\n",
              "    .dataframe thead th {\n",
              "        text-align: right;\n",
              "    }\n",
              "</style>\n",
              "<table border=\"1\" class=\"dataframe\">\n",
              "  <thead>\n",
              "    <tr style=\"text-align: right;\">\n",
              "      <th></th>\n",
              "      <th>race</th>\n",
              "      <th>gender</th>\n",
              "      <th>age</th>\n",
              "      <th>admission_type_id</th>\n",
              "      <th>discharge_disposition_id</th>\n",
              "      <th>admission_source_id</th>\n",
              "      <th>time_in_hospital</th>\n",
              "      <th>num_lab_procedures</th>\n",
              "      <th>num_procedures</th>\n",
              "      <th>num_medications</th>\n",
              "      <th>...</th>\n",
              "      <th>citoglipton</th>\n",
              "      <th>insulin</th>\n",
              "      <th>glyburide-metformin</th>\n",
              "      <th>glipizide-metformin</th>\n",
              "      <th>glimepiride-pioglitazone</th>\n",
              "      <th>metformin-rosiglitazone</th>\n",
              "      <th>metformin-pioglitazone</th>\n",
              "      <th>change</th>\n",
              "      <th>diabetesMed</th>\n",
              "      <th>readmitted</th>\n",
              "    </tr>\n",
              "  </thead>\n",
              "  <tbody>\n",
              "    <tr>\n",
              "      <th>0</th>\n",
              "      <td>Caucasian</td>\n",
              "      <td>Female</td>\n",
              "      <td>[0-10)</td>\n",
              "      <td>6</td>\n",
              "      <td>25</td>\n",
              "      <td>1</td>\n",
              "      <td>1</td>\n",
              "      <td>41</td>\n",
              "      <td>0</td>\n",
              "      <td>1</td>\n",
              "      <td>...</td>\n",
              "      <td>No</td>\n",
              "      <td>No</td>\n",
              "      <td>No</td>\n",
              "      <td>No</td>\n",
              "      <td>No</td>\n",
              "      <td>No</td>\n",
              "      <td>No</td>\n",
              "      <td>No</td>\n",
              "      <td>No</td>\n",
              "      <td>NO</td>\n",
              "    </tr>\n",
              "    <tr>\n",
              "      <th>1</th>\n",
              "      <td>Caucasian</td>\n",
              "      <td>Female</td>\n",
              "      <td>[10-20)</td>\n",
              "      <td>1</td>\n",
              "      <td>1</td>\n",
              "      <td>7</td>\n",
              "      <td>3</td>\n",
              "      <td>59</td>\n",
              "      <td>0</td>\n",
              "      <td>18</td>\n",
              "      <td>...</td>\n",
              "      <td>No</td>\n",
              "      <td>Up</td>\n",
              "      <td>No</td>\n",
              "      <td>No</td>\n",
              "      <td>No</td>\n",
              "      <td>No</td>\n",
              "      <td>No</td>\n",
              "      <td>Ch</td>\n",
              "      <td>Yes</td>\n",
              "      <td>&gt;30</td>\n",
              "    </tr>\n",
              "    <tr>\n",
              "      <th>2</th>\n",
              "      <td>AfricanAmerican</td>\n",
              "      <td>Female</td>\n",
              "      <td>[20-30)</td>\n",
              "      <td>1</td>\n",
              "      <td>1</td>\n",
              "      <td>7</td>\n",
              "      <td>2</td>\n",
              "      <td>11</td>\n",
              "      <td>5</td>\n",
              "      <td>13</td>\n",
              "      <td>...</td>\n",
              "      <td>No</td>\n",
              "      <td>No</td>\n",
              "      <td>No</td>\n",
              "      <td>No</td>\n",
              "      <td>No</td>\n",
              "      <td>No</td>\n",
              "      <td>No</td>\n",
              "      <td>No</td>\n",
              "      <td>Yes</td>\n",
              "      <td>NO</td>\n",
              "    </tr>\n",
              "    <tr>\n",
              "      <th>3</th>\n",
              "      <td>Caucasian</td>\n",
              "      <td>Male</td>\n",
              "      <td>[30-40)</td>\n",
              "      <td>1</td>\n",
              "      <td>1</td>\n",
              "      <td>7</td>\n",
              "      <td>2</td>\n",
              "      <td>44</td>\n",
              "      <td>1</td>\n",
              "      <td>16</td>\n",
              "      <td>...</td>\n",
              "      <td>No</td>\n",
              "      <td>Up</td>\n",
              "      <td>No</td>\n",
              "      <td>No</td>\n",
              "      <td>No</td>\n",
              "      <td>No</td>\n",
              "      <td>No</td>\n",
              "      <td>Ch</td>\n",
              "      <td>Yes</td>\n",
              "      <td>NO</td>\n",
              "    </tr>\n",
              "    <tr>\n",
              "      <th>4</th>\n",
              "      <td>Caucasian</td>\n",
              "      <td>Male</td>\n",
              "      <td>[40-50)</td>\n",
              "      <td>1</td>\n",
              "      <td>1</td>\n",
              "      <td>7</td>\n",
              "      <td>1</td>\n",
              "      <td>51</td>\n",
              "      <td>0</td>\n",
              "      <td>8</td>\n",
              "      <td>...</td>\n",
              "      <td>No</td>\n",
              "      <td>Steady</td>\n",
              "      <td>No</td>\n",
              "      <td>No</td>\n",
              "      <td>No</td>\n",
              "      <td>No</td>\n",
              "      <td>No</td>\n",
              "      <td>Ch</td>\n",
              "      <td>Yes</td>\n",
              "      <td>NO</td>\n",
              "    </tr>\n",
              "    <tr>\n",
              "      <th>...</th>\n",
              "      <td>...</td>\n",
              "      <td>...</td>\n",
              "      <td>...</td>\n",
              "      <td>...</td>\n",
              "      <td>...</td>\n",
              "      <td>...</td>\n",
              "      <td>...</td>\n",
              "      <td>...</td>\n",
              "      <td>...</td>\n",
              "      <td>...</td>\n",
              "      <td>...</td>\n",
              "      <td>...</td>\n",
              "      <td>...</td>\n",
              "      <td>...</td>\n",
              "      <td>...</td>\n",
              "      <td>...</td>\n",
              "      <td>...</td>\n",
              "      <td>...</td>\n",
              "      <td>...</td>\n",
              "      <td>...</td>\n",
              "      <td>...</td>\n",
              "    </tr>\n",
              "    <tr>\n",
              "      <th>101761</th>\n",
              "      <td>AfricanAmerican</td>\n",
              "      <td>Male</td>\n",
              "      <td>[70-80)</td>\n",
              "      <td>1</td>\n",
              "      <td>3</td>\n",
              "      <td>7</td>\n",
              "      <td>3</td>\n",
              "      <td>51</td>\n",
              "      <td>0</td>\n",
              "      <td>16</td>\n",
              "      <td>...</td>\n",
              "      <td>No</td>\n",
              "      <td>Down</td>\n",
              "      <td>No</td>\n",
              "      <td>No</td>\n",
              "      <td>No</td>\n",
              "      <td>No</td>\n",
              "      <td>No</td>\n",
              "      <td>Ch</td>\n",
              "      <td>Yes</td>\n",
              "      <td>&gt;30</td>\n",
              "    </tr>\n",
              "    <tr>\n",
              "      <th>101762</th>\n",
              "      <td>AfricanAmerican</td>\n",
              "      <td>Female</td>\n",
              "      <td>[80-90)</td>\n",
              "      <td>1</td>\n",
              "      <td>4</td>\n",
              "      <td>5</td>\n",
              "      <td>5</td>\n",
              "      <td>33</td>\n",
              "      <td>3</td>\n",
              "      <td>18</td>\n",
              "      <td>...</td>\n",
              "      <td>No</td>\n",
              "      <td>Steady</td>\n",
              "      <td>No</td>\n",
              "      <td>No</td>\n",
              "      <td>No</td>\n",
              "      <td>No</td>\n",
              "      <td>No</td>\n",
              "      <td>No</td>\n",
              "      <td>Yes</td>\n",
              "      <td>NO</td>\n",
              "    </tr>\n",
              "    <tr>\n",
              "      <th>101763</th>\n",
              "      <td>Caucasian</td>\n",
              "      <td>Male</td>\n",
              "      <td>[70-80)</td>\n",
              "      <td>1</td>\n",
              "      <td>1</td>\n",
              "      <td>7</td>\n",
              "      <td>1</td>\n",
              "      <td>53</td>\n",
              "      <td>0</td>\n",
              "      <td>9</td>\n",
              "      <td>...</td>\n",
              "      <td>No</td>\n",
              "      <td>Down</td>\n",
              "      <td>No</td>\n",
              "      <td>No</td>\n",
              "      <td>No</td>\n",
              "      <td>No</td>\n",
              "      <td>No</td>\n",
              "      <td>Ch</td>\n",
              "      <td>Yes</td>\n",
              "      <td>NO</td>\n",
              "    </tr>\n",
              "    <tr>\n",
              "      <th>101764</th>\n",
              "      <td>Caucasian</td>\n",
              "      <td>Female</td>\n",
              "      <td>[80-90)</td>\n",
              "      <td>2</td>\n",
              "      <td>3</td>\n",
              "      <td>7</td>\n",
              "      <td>10</td>\n",
              "      <td>45</td>\n",
              "      <td>2</td>\n",
              "      <td>21</td>\n",
              "      <td>...</td>\n",
              "      <td>No</td>\n",
              "      <td>Up</td>\n",
              "      <td>No</td>\n",
              "      <td>No</td>\n",
              "      <td>No</td>\n",
              "      <td>No</td>\n",
              "      <td>No</td>\n",
              "      <td>Ch</td>\n",
              "      <td>Yes</td>\n",
              "      <td>NO</td>\n",
              "    </tr>\n",
              "    <tr>\n",
              "      <th>101765</th>\n",
              "      <td>Caucasian</td>\n",
              "      <td>Male</td>\n",
              "      <td>[70-80)</td>\n",
              "      <td>1</td>\n",
              "      <td>1</td>\n",
              "      <td>7</td>\n",
              "      <td>6</td>\n",
              "      <td>13</td>\n",
              "      <td>3</td>\n",
              "      <td>3</td>\n",
              "      <td>...</td>\n",
              "      <td>No</td>\n",
              "      <td>No</td>\n",
              "      <td>No</td>\n",
              "      <td>No</td>\n",
              "      <td>No</td>\n",
              "      <td>No</td>\n",
              "      <td>No</td>\n",
              "      <td>No</td>\n",
              "      <td>No</td>\n",
              "      <td>NO</td>\n",
              "    </tr>\n",
              "  </tbody>\n",
              "</table>\n",
              "<p>101766 rows × 45 columns</p>\n",
              "</div>"
            ]
          },
          "metadata": {
            "tags": []
          },
          "execution_count": 14
        },
        {
          "output_type": "stream",
          "text": [
            "time: 296 ms\n"
          ],
          "name": "stdout"
        }
      ]
    },
    {
      "cell_type": "code",
      "metadata": {
        "tags": [],
        "id": "HXZ8AzaBGBzm",
        "colab_type": "code",
        "colab": {},
        "outputId": "006cd17d-3c20-49f9-91b5-d795b6ecb639"
      },
      "source": [
        "df['num_ovrll_prcdrs'] = df['num_lab_procedures'] + df['num_procedures']"
      ],
      "execution_count": null,
      "outputs": [
        {
          "output_type": "stream",
          "text": [
            "time: 24 ms\n"
          ],
          "name": "stdout"
        }
      ]
    },
    {
      "cell_type": "code",
      "metadata": {
        "tags": [],
        "id": "hJccjYx_GBz3",
        "colab_type": "code",
        "colab": {},
        "outputId": "c499fc87-24ca-4126-8494-b9ce5d970e9f"
      },
      "source": [
        "df['num_prvs_vists'] = df['number_outpatient'] + df['number_emergency'] + df['number_inpatient']"
      ],
      "execution_count": null,
      "outputs": [
        {
          "output_type": "stream",
          "text": [
            "time: 22 ms\n"
          ],
          "name": "stdout"
        }
      ]
    },
    {
      "cell_type": "code",
      "metadata": {
        "tags": [],
        "id": "zlDS7UxFGB0B",
        "colab_type": "code",
        "colab": {},
        "outputId": "4a5e4753-9908-45a7-98a0-36f7dcc96dba"
      },
      "source": [
        "df.drop(['num_lab_procedures', 'num_procedures', 'number_outpatient', 'number_emergency', 'number_inpatient'],axis=1,inplace=True)"
      ],
      "execution_count": null,
      "outputs": [
        {
          "output_type": "stream",
          "text": [
            "time: 159 ms\n"
          ],
          "name": "stdout"
        }
      ]
    },
    {
      "cell_type": "code",
      "metadata": {
        "tags": [],
        "id": "_HhcBYsGGB0e",
        "colab_type": "code",
        "colab": {},
        "outputId": "baa16bc0-55f2-49ad-b011-b3c49d246c4c"
      },
      "source": [
        "df.readmitted = df.readmitted.map({'>30':0, '<30':0, 'NO':1})"
      ],
      "execution_count": null,
      "outputs": [
        {
          "output_type": "stream",
          "text": [
            "time: 79 ms\n"
          ],
          "name": "stdout"
        }
      ]
    },
    {
      "cell_type": "code",
      "metadata": {
        "tags": [],
        "id": "qgw-74UDGB0s",
        "colab_type": "code",
        "colab": {},
        "outputId": "5ecdb741-ce85-43d4-b8fc-a80fbebe06d4"
      },
      "source": [
        "df.readmitted.value_counts(normalize = True)"
      ],
      "execution_count": null,
      "outputs": [
        {
          "output_type": "execute_result",
          "data": {
            "text/plain": [
              "1    0.539119\n",
              "0    0.460881\n",
              "Name: readmitted, dtype: float64"
            ]
          },
          "metadata": {
            "tags": []
          },
          "execution_count": 19
        },
        {
          "output_type": "stream",
          "text": [
            "time: 20 ms\n"
          ],
          "name": "stdout"
        }
      ]
    },
    {
      "cell_type": "markdown",
      "metadata": {
        "tags": [],
        "id": "Zf8Xh0fIGB07",
        "colab_type": "text"
      },
      "source": [
        "l = list(df.describe(include='O').columns)"
      ]
    },
    {
      "cell_type": "markdown",
      "metadata": {
        "tags": [],
        "id": "5D7Q-vLcGB09",
        "colab_type": "text"
      },
      "source": [
        "results = ofv.associations(df,nominal_columns=l,return_results=True)"
      ]
    },
    {
      "cell_type": "code",
      "metadata": {
        "tags": [],
        "id": "25JHWkxFGB0_",
        "colab_type": "code",
        "colab": {},
        "outputId": "77389510-ad8e-4dad-a1e2-bc2e6a372dc2"
      },
      "source": [
        "df['diag_1'].unique()"
      ],
      "execution_count": null,
      "outputs": [
        {
          "output_type": "execute_result",
          "data": {
            "text/plain": [
              "array(['250.83', '276', '648', '8', '197', '414', '428', '398', '434',\n",
              "       '250.7', '157', '518', '999', '410', '682', '402', '737', '572',\n",
              "       'V57', '189', '786', '427', '996', '277', '584', '462', '473',\n",
              "       '411', '174', '486', '998', '511', '432', '626', '295', '196',\n",
              "       '250.6', '618', '182', '845', '423', '808', '250.4', '722', '403',\n",
              "       '250.11', '784', '707', '440', '151', '715', '997', '198', '564',\n",
              "       '812', '38', '590', '556', '578', '250.32', '433', 'V58', '569',\n",
              "       '185', '536', '255', '250.13', '599', '558', '574', '491', '560',\n",
              "       '244', '250.03', '577', '730', '188', '824', '250.8', '332', '562',\n",
              "       '291', '296', '510', '401', '263', '438', '70', '250.02', '493',\n",
              "       '642', '625', '571', '738', '593', '250.42', '807', '456', '446',\n",
              "       '575', '250.41', '820', '515', '780', '250.22', '995', '235',\n",
              "       '250.82', '721', '787', '162', '724', '282', '514', 'V55', '281',\n",
              "       '250.33', '530', '466', '435', '250.12', 'V53', '789', '566',\n",
              "       '822', '191', '557', '733', '455', '711', '482', '202', '280',\n",
              "       '553', '225', '154', '441', '250.81', '349', 'No Diagnosis Done',\n",
              "       '962', '592', '507', '386', '156', '200', '728', '348', '459',\n",
              "       '426', '388', '607', '337', '82', '531', '596', '288', '656',\n",
              "       '573', '492', '220', '516', '210', '922', '286', '885', '958',\n",
              "       '661', '969', '250.93', '227', '112', '404', '823', '532', '416',\n",
              "       '346', '535', '453', '250', '595', '211', '303', '250.01', '852',\n",
              "       '218', '782', '540', '457', '285', '431', '340', '550', '54',\n",
              "       '351', '601', '723', '555', '153', '443', '380', '204', '424',\n",
              "       '241', '358', '694', '331', '345', '681', '447', '290', '158',\n",
              "       '579', '436', '335', '309', '654', '805', '799', '292', '183',\n",
              "       '78', '851', '458', '586', '311', '892', '305', '293', '415',\n",
              "       '591', '794', '803', '79', '655', '429', '278', '658', '598',\n",
              "       '729', '585', '444', '604', '727', '214', '552', '284', '680',\n",
              "       '708', '41', '644', '481', '821', '413', '437', '968', '756',\n",
              "       '632', '359', '275', '512', '781', '420', '368', '522', '294',\n",
              "       '825', '135', '304', '320', '250.31', '669', '868', '496',\n",
              "       '250.43', '826', '567', '3', '203', '53', '251', '565', '161',\n",
              "       '495', '49', '250.1', '297', '663', '576', '355', '850', '287',\n",
              "       '250.2', '611', '840', '350', '726', '537', '620', '180', '366',\n",
              "       '783', '11', '751', '716', '250.3', '199', '464', '580', '836',\n",
              "       '664', '283', '813', '966', '289', '965', '184', '480', '608',\n",
              "       '333', '972', '212', '117', '788', '924', '959', '621', '238',\n",
              "       '785', '714', '942', '250.23', '710', '47', '933', '508', '478',\n",
              "       '844', '7', '736', '233', '42', '250.5', '397', '395', '201',\n",
              "       '421', '253', '250.92', '600', '494', '977', '39', '659', '312',\n",
              "       '614', '647', '652', '646', '274', '861', '425', '527', '451',\n",
              "       '485', '217', '250.53', '442', '970', '193', '160', '322', '581',\n",
              "       '475', '623', '374', '582', '568', '465', '801', '237', '376',\n",
              "       '150', '461', '913', '226', '617', '987', '641', '298', '790',\n",
              "       '336', '362', '228', '513', '383', '746', '353', '911', '506',\n",
              "       '873', '155', '860', '534', '802', '141', 'V45', '396', '310',\n",
              "       '341', '242', '719', '239', '533', '616', '519', '301', 'V66', '5',\n",
              "       '989', '230', '385', '300', '853', '871', '570', '848', '463', '9',\n",
              "       '934', '250.21', '236', '361', '594', '501', '810', '643', '430',\n",
              "       '528', '205', '791', '983', '992', '490', '172', '171', '622',\n",
              "       '306', '863', '864', '474', '660', '759', '356', '634', '967',\n",
              "       '551', '695', '187', '732', '747', '323', '308', '370', '252',\n",
              "       '152', '846', '164', '365', '718', '48', '266', '720', '94', '344',\n",
              "       '797', '170', '878', '904', 'V56', '882', '843', '709', '973',\n",
              "       '454', '686', '939', '487', '229', '991', '483', '357', '692',\n",
              "       '796', '693', '935', '936', '800', '920', 'V26', '261', '307',\n",
              "       '262', '250.9', '831', '145', '223', 'V71', '839', '685', 'V54',\n",
              "       '35', '34', '179', '964', '136', '324', '389', '815', '334', '143',\n",
              "       '526', '588', '192', 'V67', '394', '917', '88', '219', '325',\n",
              "       '792', '717', '994', '990', '793', '207', '637', '195', '373',\n",
              "       '847', '827', '31', '891', '814', 'V60', '703', '865', '352',\n",
              "       '627', '378', '342', '886', '369', '745', '705', '816', '541',\n",
              "       '986', '610', '633', '640', '753', '173', '835', '379', '445',\n",
              "       '272', '382', '945', '619', '881', '250.52', '866', '405', '916',\n",
              "       '215', '893', '75', '671', '928', '906', '897', '725', '867',\n",
              "       '115', '890', '734', '521', '674', '470', '834', '146', '696',\n",
              "       '524', '980', '691', '384', '142', '879', '250.51', '246', '208',\n",
              "       '448', '955', '653', '149', '245', '735', '883', '854', '952',\n",
              "       '838', '194', 'V43', '163', '216', '147', '354', '27', '477',\n",
              "       '318', '880', '921', '377', '471', '683', '175', '602', '250.91',\n",
              "       '982', '706', '375', '417', '131', '347', '870', '148', '862',\n",
              "       '61', '817', '914', '360', '684', '314', 'V63', '36', '57', '240',\n",
              "       '915', '971', '795', '988', '452', '963', '327', '731', '842',\n",
              "       'V25', '645', '665', '110', '944', '603', '923', '412', '363',\n",
              "       '957', '976', '698', '299', '700', '273', '974', '97', '529', '66',\n",
              "       '98', '605', '941', '52', '806', '84', '271', '837', '657', '895',\n",
              "       '338', '523', '542', '114', '543', '372', 'V70', 'E909', '583',\n",
              "       'V07', '422', '615', '279', '500', '903', '919', '875', '381',\n",
              "       '804', '704', '23', '58', '649', '832', '133', '975', '833', '391',\n",
              "       '690', '10', 'V51'], dtype=object)"
            ]
          },
          "metadata": {
            "tags": []
          },
          "execution_count": 20
        },
        {
          "output_type": "stream",
          "text": [
            "time: 76 ms\n"
          ],
          "name": "stdout"
        }
      ]
    },
    {
      "cell_type": "code",
      "metadata": {
        "tags": [],
        "id": "kRWeNRH1GB1S",
        "colab_type": "code",
        "colab": {},
        "outputId": "2b82caa2-2f2e-47b0-f40f-5f3d5204744d"
      },
      "source": [
        "d1 = {'3':'Intestinal Infectious Diseases', '5':'Intestinal Infectious Diseases','7':'Intestinal Infectious Diseases','8':'Intestinal Infectious Diseases','9':'Intestinal Infectious Diseases','10':'Tuberculosis','11':'Tuberculosis','23':'Zoonotic Bacterial Diseases','27':'Zoonotic Bacterial Diseases','31':'Other Bacterial Diseases','34':'Other Bacterial Diseases','35':'Other Bacterial Diseases','36':'Other Bacterial Diseases','38':'Other Bacterial Diseases','39':'Other Bacterial Diseases','41':'Other Bacterial Diseases','42':'Human Immunodeficiency Virus', '47':'Poliomyelitis And Other Non-Arthropod-Borne Viral Diseases Of Central Nervous System','48':'Poliomyelitis And Other Non-Arthropod-Borne Viral Diseases Of Central Nervous System','49':'Poliomyelitis And Other Non-Arthropod-Borne Viral Diseases Of Central Nervous System', '52':'Viral Diseases Accompanied By Exanthem', '53':'Viral Diseases Accompanied By Exanthem', '54':'Viral Diseases Accompanied By Exanthem', '57':'Viral Diseases Accompanied By Exanthem', '58':'Other Human Herpesviruses', '61': 'Arthropod-Borne Viral Diseases', '66':'Arthropod-Borne Viral Diseases', '70':'Other Diseases Due To Viruses And Chlamydiae', '75':'Other Diseases Due To Viruses And Chlamydiae', '78':'Other Diseases Due To Viruses And Chlamydiae', '79':'Other Diseases Due To Viruses And Chlamydiae', '82':' Rickettsioses And Other Arthropod-Borne Diseases', '84':' Rickettsioses And Other Arthropod-Borne Diseases', '88':' Rickettsioses And Other Arthropod-Borne Diseases', '94':'Syphilis And Other Venereal Diseases', '97':'Syphilis And Other Venereal Diseases', '98':'Syphilis And Other Venereal Diseases', '110':'Mycoses', '112':'Mycoses', '114':'Mycoses' , '115':'Mycoses', '117':'Mycoses', '131':'Other Infectious And Parasitic Diseases', '133':'Other Infectious And Parasitic Diseases', '135':'Other Infectious And Parasitic Diseases' , '136':'Other Infectious And Parasitic Diseases','141':'Malignant Neoplasm Of Lip, Oral Cavity, And Pharynx', '142':'Malignant Neoplasm Of Lip, Oral Cavity, And Pharynx', '143':'Malignant Neoplasm Of Lip, Oral Cavity, And Pharynx', '145':'Malignant Neoplasm Of Lip, Oral Cavity, And Pharynx', '146':'Malignant Neoplasm Of Lip, Oral Cavity, And Pharynx', '147':'Malignant Neoplasm Of Lip, Oral Cavity, And Pharynx', '148':'Malignant Neoplasm Of Lip, Oral Cavity, And Pharynx', '149':'Malignant Neoplasm Of Lip, Oral Cavity, And Pharynx', '150':'Malignant Neoplasm Of Digestive Organs And Peritoneum', '151':'Malignant Neoplasm Of Digestive Organs And Peritoneum', '152':'Malignant Neoplasm Of Digestive Organs And Peritoneum', '153':'Malignant Neoplasm Of Digestive Organs And Peritoneum', '154':'Malignant Neoplasm Of Digestive Organs And Peritoneum', '155':'Malignant Neoplasm Of Digestive Organs And Peritoneum', '156':'Malignant Neoplasm Of Digestive Organs And Peritoneum', '157':'Malignant Neoplasm Of Digestive Organs And Peritoneum', '158':'Malignant Neoplasm Of Digestive Organs And Peritoneum', '160':'Malignant Neoplasm Of Respiratory And Intrathoracic Organs','161':'Malignant Neoplasm Of Respiratory And Intrathoracic Organs','162':'Malignant Neoplasm Of Respiratory And Intrathoracic Organs','163':'Malignant Neoplasm Of Respiratory And Intrathoracic Organs','164':'Malignant Neoplasm Of Respiratory And Intrathoracic Organs','170':'Malignant Neoplasm Of Bone, Connective Tissue, Skin, And Breast','171':'Malignant Neoplasm Of Bone, Connective Tissue, Skin, And Breast','172':'Malignant Neoplasm Of Bone, Connective Tissue, Skin, And Breast','173':'Malignant Neoplasm Of Bone, Connective Tissue, Skin, And Breast','174':'Malignant Neoplasm Of Bone, Connective Tissue, Skin, And Breast','175':'Malignant Neoplasm Of Bone, Connective Tissue, Skin, And Breast','179':'Malignant Neoplasm Of Genitourinary Organs','180':'Malignant Neoplasm Of Genitourinary Organs','182':'Malignant Neoplasm Of Genitourinary Organs','183':'Malignant Neoplasm Of Genitourinary Organs','184':'Malignant Neoplasm Of Genitourinary Organs','185':'Malignant Neoplasm Of Genitourinary Organs','187':'Malignant Neoplasm Of Genitourinary Organs','188':'Malignant Neoplasm Of Genitourinary Organs','189':'Malignant Neoplasm Of Genitourinary Organs','191':'Malignant Neoplasm Of Other And Unspecified Sites','192':'Malignant Neoplasm Of Other And Unspecified Sites','193':'Malignant Neoplasm Of Other And Unspecified Sites','194':'Malignant Neoplasm Of Other And Unspecified Sites','195':'Malignant Neoplasm Of Other And Unspecified Sites','196':'Malignant Neoplasm Of Other And Unspecified Sites','197':'Malignant Neoplasm Of Other And Unspecified Sites','198':'Malignant Neoplasm Of Other And Unspecified Sites','199':'Malignant Neoplasm Of Other And Unspecified Sites','200':'Malignant Neoplasm Of Lymphatic And Hematopoietic Tissue','201':'Malignant Neoplasm Of Lymphatic And Hematopoietic Tissue','202':'Malignant Neoplasm Of Lymphatic And Hematopoietic Tissue','203':'Malignant Neoplasm Of Lymphatic And Hematopoietic Tissue','204':'Malignant Neoplasm Of Lymphatic And Hematopoietic Tissue','205':'Malignant Neoplasm Of Lymphatic And Hematopoietic Tissue','207':'Malignant Neoplasm Of Lymphatic And Hematopoietic Tissue','208':'Malignant Neoplasm Of Lymphatic And Hematopoietic Tissue','210':'Benign Neoplasms','211':'Benign Neoplasms','212':'Benign Neoplasms','214':'Benign Neoplasms','215':'Benign Neoplasms','216':'Benign Neoplasms','217':'Benign Neoplasms','218':'Benign Neoplasms','219':'Benign Neoplasms','220':'Benign Neoplasms','223':'Benign Neoplasms','225':'Benign Neoplasms','226':'Benign Neoplasms','227':'Benign Neoplasms','228':'Benign Neoplasms','229':'Benign Neoplasms','230':'Carcinoma In Situ','233':'Carcinoma In Situ','235':'Neoplasms Of Uncertain Behavior','236':'Neoplasms Of Uncertain Behavior','237':'Neoplasms Of Uncertain Behavior','238':'Neoplasms Of Uncertain Behavior','239':'Neoplasms Of Unspecified Nature','240':'Disorders Of Thyroid Gland','241':'Disorders Of Thyroid Gland','242':'Disorders Of Thyroid Gland','244':'Disorders Of Thyroid Gland','245':'Disorders Of Thyroid Gland','246':'Disorders Of Thyroid Gland','250':'Diabetes mellitus type 2','250.02':'Diabetes mellitus type 2','250.1':'Diabetes mellitus type 2','250.12':'Diabetes mellitus type 2','250.2':'Diabetes mellitus type 2','250.22':'Diabetes mellitus type 2','250.3':'Diabetes mellitus type 2','250.32':'Diabetes mellitus type 2','250.4':'Diabetes mellitus type 2','250.42':'Diabetes mellitus type 2','250.5':'Diabetes mellitus type 2','250.52':'Diabetes mellitus type 2','250.6':'Diabetes mellitus type 2','250.7':'Diabetes mellitus type 2','250.8':'Diabetes mellitus type 2','250.82':'Diabetes mellitus type 2','250.9':'Diabetes mellitus type 2','250.92':'Diabetes mellitus type 2','250.01':'Diabetes mellitus type 1','250.03':'Diabetes mellitus type 1','250.11':'Diabetes mellitus type 1','250.13':'Diabetes mellitus type 1','250.21':'Diabetes mellitus type 1','250.23':'Diabetes mellitus type 1','250.31':'Diabetes mellitus type 1','250.33':'Diabetes mellitus type 1','250.41':'Diabetes mellitus type 1','250.43':'Diabetes mellitus type 1','250.51':'Diabetes mellitus type 1','250.53':'Diabetes mellitus type 1','250.81':'Diabetes mellitus type 1','250.83':'Diabetes mellitus type 1','250.91':'Diabetes mellitus type 1','250.93':'Diabetes mellitus type 1','251':'Diseases Of Other Endocrine Glands','252':'Diseases Of Other Endocrine Glands','253':'Diseases Of Other Endocrine Glands','255':'Diseases Of Other Endocrine Glands','256':'Diseases Of Other Endocrine Glands','251':'Diseases Of Other Endocrine Glands','252':'Diseases Of Other Endocrine Glands','253':'Diseases Of Other Endocrine Glands','255':'Diseases Of Other Endocrine Glands','261':'Nutritional Deficiencies','262':'Nutritional Deficiencies','263':'Nutritional Deficiencies','266':'Nutritional Deficiencies','271':'Other Metabolic Disorders And Immunity Disoders','272':'Other Metabolic Disorders And Immunity Disorders','273':'Other Metabolic Disorders And Immunity Disorders','274':'Other Metabolic Disorders And Immunity Disorders','275':'Other Metabolic Disorders And Immunity Disorders','276':'Other Metabolic Disorders And Immunity Disorders','277':'Other Metabolic Disorders And Immunity Disorders','278':'Other Metabolic Disorders And Immunity Disorders','279':'Other Metabolic Disorders And Immunity Disorders','280':'Diseases Of The Blood And Blood-Forming Organs','281':'Diseases Of The Blood And Blood-Forming Organs','282':'Diseases Of The Blood And Blood-Forming Organs','283':'Diseases Of The Blood And Blood-Forming Organs','284':'Diseases Of The Blood And Blood-Forming Organs','285':'Diseases Of The Blood And Blood-Forming Organs','286':'Diseases Of The Blood And Blood-Forming Organs','287':'Diseases Of The Blood And Blood-Forming Organs','288':'Diseases Of The Blood And Blood-Forming Organs','289':'Diseases Of The Blood And Blood-Forming Organs','290':'Organic Psychotic Conditions','291':'Organic Psychotic Conditions','292':'Organic Psychotic Conditions','293':'Organic Psychotic Conditions','294':'Organic Psychotic Conditions','295':'Other Psychoses','296':'Other Psychoses','297':'Other Psychoses','298':'Other Psychoses','299':'Other Psychoses','300':'Neurotic Disorders, Personality Disorders, And Other Nonpsychotic Mental Disorders','301':'Neurotic Disorders, Personality Disorders, And Other Nonpsychotic Mental Disorders','303':'Neurotic Disorders, Personality Disorders, And Other Nonpsychotic Mental Disorders','304':'Neurotic Disorders, Personality Disorders, And Other Nonpsychotic Mental Disorders','305':'Neurotic Disorders, Personality Disorders, And Other Nonpsychotic Mental Disorders','306':'Neurotic Disorders, Personality Disorders, And Other Nonpsychotic Mental Disorders','307':'Neurotic Disorders, Personality Disorders, And Other Nonpsychotic Mental Disorders','308':'Neurotic Disorders, Personality Disorders, And Other Nonpsychotic Mental Disorders','309':'Neurotic Disorders, Personality Disorders, And Other Nonpsychotic Mental Disorders','310':'Neurotic Disorders, Personality Disorders, And Other Nonpsychotic Mental Disorders','311':'Neurotic Disorders, Personality Disorders, And Other Nonpsychotic Mental Disorders','312':'Neurotic Disorders, Personality Disorders, And Other Nonpsychotic Mental Disorders','314':'Neurotic Disorders, Personality Disorders, And Other Nonpsychotic Mental Disorders','318':'Mental Retardation','320':'Inflammatory Diseases Of The Central Nervous System','322':'Inflammatory Diseases Of The Central Nervous System','323':'Inflammatory Diseases Of The Central Nervous System','324':'Inflammatory Diseases Of The Central Nervous System','325':'Inflammatory Diseases Of The Central Nervous System','327':'Inflammatory Diseases Of The Central Nervous System','331':'Hereditary And Degenerative Diseases Of The Central Nervous System','332':'Hereditary And Degenerative Diseases Of The Central Nervous System','333':'Hereditary And Degenerative Diseases Of The Central Nervous System','334':'Hereditary And Degenerative Diseases Of The Central Nervous System','335':'Hereditary And Degenerative Diseases Of The Central Nervous System','336':'Hereditary And Degenerative Diseases Of The Central Nervous System','337':'Hereditary And Degenerative Diseases Of The Central Nervous System','338':'Pain','340':'Other Disorders Of The Central Nervous System','341':'Other Disorders Of The Central Nervous System','342':'Other Disorders Of The Central Nervous System','344':'Other Disorders Of The Central Nervous System','345':'Other Disorders Of The Central Nervous System','346':'Other Disorders Of The Central Nervous System','347':'Other Disorders Of The Central Nervous System','348':'Other Disorders Of The Central Nervous System','349':'Other Disorders Of The Central Nervous System','350':'Disorders Of The Peripheral Nervous System','351':'Disorders Of The Peripheral Nervous System','352':'Disorders Of The Peripheral Nervous System','353':'Disorders Of The Peripheral Nervous System','354':'Disorders Of The Peripheral Nervous System','355':'Disorders Of The Peripheral Nervous System','356':'Disorders Of The Peripheral Nervous System','357':'Disorders Of The Peripheral Nervous System','358':'Disorders Of The Peripheral Nervous System','359':'Disorders Of The Peripheral Nervous System','360':'Disorders Of The Eye And Adnexa','361':'Disorders Of The Eye And Adnexa','362':'Disorders Of The Eye And Adnexa','363':'Disorders Of The Eye And Adnexa','365':'Disorders Of The Eye And Adnexa','366':'Disorders Of The Eye And Adnexa','368':'Disorders Of The Eye And Adnexa','369':'Disorders Of The Eye And Adnexa','370':'Disorders Of The Eye And Adnexa','372':'Disorders Of The Eye And Adnexa','373':'Disorders Of The Eye And Adnexa','374':'Disorders Of The Eye And Adnexa','375':'Disorders Of The Eye And Adnexa','376':'Disorders Of The Eye And Adnexa','377':'Disorders Of The Eye And Adnexa','378':'Disorders Of The Eye And Adnexa','379':'Disorders Of The Eye And Adnexa','380':'Diseases Of The Ear And Mastoid Process','381':'Diseases Of The Ear And Mastoid Process','382':'Diseases Of The Ear And Mastoid Process','383':'Diseases Of The Ear And Mastoid Process','384':'Diseases Of The Ear And Mastoid Process','385':'Diseases Of The Ear And Mastoid Process','386':'Diseases Of The Ear And Mastoid Process','388':'Diseases Of The Ear And Mastoid Process','389':'Diseases Of The Ear And Mastoid Process','391':'Rheumatic Fever','394':'Rheumatic Fever','395':'Rheumatic Fever','396':'Rheumatic Fever','397':'Rheumatic Fever','398':'Rheumatic Fever','401':'Hypertensive Disease','402':'Hypertensive Disease','403':'Hypertensive Disease','404':'Hypertensive Disease','405':'Hypertensive Disease','410':'Ischemic Heart Disease','411':'Ischemic Heart Disease','412':'Ischemic Heart Disease','413':'Ischemic Heart Disease','414':'Ischemic Heart Disease','415':'Diseases Of Pulmonary Circulation','416':'Diseases Of Pulmonary Circulation','417':'Diseases Of Pulmonary Circulation','420':'Other Forms Of Heart Disease','421':'Other Forms Of Heart Disease','422':'Other Forms Of Heart Disease','423':'Other Forms Of Heart Disease','424':'Other Forms Of Heart Disease','425':'Other Forms Of Heart Disease','426':'Other Forms Of Heart Disease','427':'Other Forms Of Heart Disease','428':'Other Forms Of Heart Disease','429':'Other Forms Of Heart Disease','430':'Cerebrovascular Disease','431':'Cerebrovascular Disease','432':'Cerebrovascular Disease','433':'Cerebrovascular Disease','434':'Cerebrovascular Disease','435':'Cerebrovascular Disease','436':'Cerebrovascular Disease','437':'Cerebrovascular Disease','438':'Cerebrovascular Disease','440':'Diseases Of Arteries, Arterioles, And Capillaries','441':'Diseases Of Arteries, Arterioles, And Capillaries','442':'Diseases Of Arteries, Arterioles, And Capillaries','443':'Diseases Of Arteries, Arterioles, And Capillaries','444':'Diseases Of Arteries, Arterioles, And Capillaries','445':'Diseases Of Arteries, Arterioles, And Capillaries','446':'Diseases Of Arteries, Arterioles, And Capillaries','447':'Diseases Of Arteries, Arterioles, And Capillaries','448':'Diseases Of Arteries, Arterioles, And Capillaries','451':'Diseases Of Veins And Lymphatics, And Other Diseases Of Circulatory System','452':'Diseases Of Veins And Lymphatics, And Other Diseases Of Circulatory System','453':'Diseases Of Veins And Lymphatics, And Other Diseases Of Circulatory System','454':'Diseases Of Veins And Lymphatics, And Other Diseases Of Circulatory System','455':'Diseases Of Veins And Lymphatics, And Other Diseases Of Circulatory System','456':'Diseases Of Veins And Lymphatics, And Other Diseases Of Circulatory System','457':'Diseases Of Veins And Lymphatics, And Other Diseases Of Circulatory System','458':'Diseases Of Veins And Lymphatics, And Other Diseases Of Circulatory System','459':'Diseases Of Veins And Lymphatics, And Other Diseases Of Circulatory System','461':'Acute Respiratory Infections','462':'Acute Respiratory Infections','463':'Acute Respiratory Infections','464':'Acute Respiratory Infections','465':'Acute Respiratory Infections','466':'Acute Respiratory Infections','470':'Other Diseases Of Upper Respiratory Tract','471':'Other Diseases Of Upper Respiratory Tract','473':'Other Diseases Of Upper Respiratory Tract','474':'Other Diseases Of Upper Respiratory Tract','475':'Other Diseases Of Upper Respiratory Tract','477':'Other Diseases Of Upper Respiratory Tract','478':'Other Diseases Of Upper Respiratory Tract','480':'Pneumonia And Influenza','481':'Pneumonia And Influenza','482':'Pneumonia And Influenza','483':'Pneumonia And Influenza','485':'Pneumonia And Influenza','486':'Pneumonia And Influenza','487':'Pneumonia And Influenza','490':'Chronic Obstructive Pulmonary Disease And Allied Conditions','491':'Chronic Obstructive Pulmonary Disease And Allied Conditions','492':'Chronic Obstructive Pulmonary Disease And Allied Conditions','493':'Chronic Obstructive Pulmonary Disease And Allied Conditions','494':'Chronic Obstructive Pulmonary Disease And Allied Conditions','495':'Chronic Obstructive Pulmonary Disease And Allied Conditions','496':'Chronic Obstructive Pulmonary Disease And Allied Conditions','500':'Pneumoconioses And Other Lung Diseases Due To External Agents','501':'Pneumoconioses And Other Lung Diseases Due To External Agents','506':'Pneumoconioses And Other Lung Diseases Due To External Agents','507':'Pneumoconioses And Other Lung Diseases Due To External Agents','508':'Pneumoconioses And Other Lung Diseases Due To External Agents','510':'Other Diseases Of Respiratory System','511':'Other Diseases Of Respiratory System','512':'Other Diseases Of Respiratory System','513':'Other Diseases Of Respiratory System','514':'Other Diseases Of Respiratory System','515':'Other Diseases Of Respiratory System','516':'Other Diseases Of Respiratory System','518':'Other Diseases Of Respiratory System','519':'Other Diseases Of Respiratory System','521':'Diseases Of Oral Cavity, Salivary Glands, And Jaws','522':'Diseases Of Oral Cavity, Salivary Glands, And Jaws','523':'Diseases Of Oral Cavity, Salivary Glands, And Jaws','524':'Diseases Of Oral Cavity, Salivary Glands, And Jaws','526':'Diseases Of Oral Cavity, Salivary Glands, And Jaws','527':'Diseases Of Oral Cavity, Salivary Glands, And Jaws','528':'Diseases Of Oral Cavity, Salivary Glands, And Jaws','529':'Diseases Of Oral Cavity, Salivary Glands, And Jaws','530':'Diseases Of Esophagus, Stomach, And Duodenum','531':'Diseases Of Esophagus, Stomach, And Duodenum','532':'Diseases Of Esophagus, Stomach, And Duodenum','533':'Diseases Of Esophagus, Stomach, And Duodenum','534':'Diseases Of Esophagus, Stomach, And Duodenum','535':'Diseases Of Esophagus, Stomach, And Duodenum','536':'Diseases Of Esophagus, Stomach, And Duodenum','537':'Diseases Of Esophagus, Stomach, And Duodenum','540':'Appendicitis','541':'Appendicitis','542':'Appendicitis','543':'Appendicitis','550':'Hernia Of Abdominal Cavity','551':'Hernia Of Abdominal Cavity','552':'Hernia Of Abdominal Cavity','553':'Hernia Of Abdominal Cavity','555':'Noninfective Enteritis And Colitis','556':'Noninfective Enteritis And Colitis','557':'Noninfective Enteritis And Colitis','558':'Noninfective Enteritis And Colitis','560':'Other Diseases Of Intestines And Peritoneum','562':'Other Diseases Of Intestines And Peritoneum','564':'Other Diseases Of Intestines And Peritoneum','565':'Other Diseases Of Intestines And Peritoneum','566':'Other Diseases Of Intestines And Peritoneum','567':'Other Diseases Of Intestines And Peritoneum','568':'Other Diseases Of Intestines And Peritoneum','569':'Other Diseases Of Intestines And Peritoneum','570':'Other Diseases Of Digestive System','571':'Other Diseases Of Digestive System','572':'Other Diseases Of Digestive System','573':'Other Diseases Of Digestive System','574':'Other Diseases Of Digestive System','575':'Other Diseases Of Digestive System','576':'Other Diseases Of Digestive System','577':'Other Diseases Of Digestive System','578':'Other Diseases Of Digestive System','579':'Other Diseases Of Digestive System','580':'Nephritis, Nephrotic Syndrome, And Nephrosis','581':'Nephritis, Nephrotic Syndrome, And Nephrosis','582':'Nephritis, Nephrotic Syndrome, And Nephrosis','583':'Nephritis, Nephrotic Syndrome, And Nephrosis','584':'Nephritis, Nephrotic Syndrome, And Nephrosis','585':'Nephritis, Nephrotic Syndrome, And Nephrosis','586':'Nephritis, Nephrotic Syndrome, And Nephrosis','588':'Nephritis, Nephrotic Syndrome, And Nephrosis','590':'Other Diseases Of Urinary System','591':'Other Diseases Of Urinary System','592':'Other Diseases Of Urinary System','593':'Other Diseases Of Urinary System','594':'Other Diseases Of Urinary System','595':'Other Diseases Of Urinary System','596':'Other Diseases Of Urinary System','598':'Other Diseases Of Urinary System','599':'Other Diseases Of Urinary System','600':'Diseases Of Male Genital Organs','601':'Diseases Of Male Genital Organs','602':'Diseases Of Male Genital Organs','603':'Diseases Of Male Genital Organs','604':'Diseases Of Male Genital Organs','605':'Diseases Of Male Genital Organs','607':'Diseases Of Male Genital Organs','608':'Diseases Of Male Genital Organs','610':'Disorders Of Breast','611':'Disorders Of Breast','614':'Inflammatory Disease Of Female Pelvic Organs','615':'Inflammatory Disease Of Female Pelvic Organs','616':'Inflammatory Disease Of Female Pelvic Organs','617':'Other Disorders Of Female Genital Tract','618':'Other Disorders Of Female Genital Tract','619':'Other Disorders Of Female Genital Tract','620':'Other Disorders Of Female Genital Tract','621':'Other Disorders Of Female Genital Tract','622':'Other Disorders Of Female Genital Tract','623':'Other Disorders Of Female Genital Tract','625':'Other Disorders Of Female Genital Tract','626':'Other Disorders Of Female Genital Tract','627':'Other Disorders Of Female Genital Tract','632':'Pregnancy Disorders','633':'Pregnancy Disorders','634':'Pregnancy Disorders','637':'Pregnancy Disorders','640':'Pregnancy Disorders','641':'Pregnancy Disorders','642':'Pregnancy Disorders','643':'Pregnancy Disorders','644':'Pregnancy Disorders','645':'Pregnancy Disorders','646':'Pregnancy Disorders','647':'Pregnancy Disorders','648':'Pregnancy Disorders','649':'Pregnancy Disorders','652':'Normal Delivery, And Other Indications For Care In Pregnancy, Labor, And Delivery','653':'Normal Delivery, And Other Indications For Care In Pregnancy, Labor, And Delivery','654':'Normal Delivery, And Other Indications For Care In Pregnancy, Labor, And Delivery','655':'Normal Delivery, And Other Indications For Care In Pregnancy, Labor, And Delivery','656':'Normal Delivery, And Other Indications For Care In Pregnancy, Labor, And Delivery','657':'Normal Delivery, And Other Indications For Care In Pregnancy, Labor, And Delivery','658':'Normal Delivery, And Other Indications For Care In Pregnancy, Labor, And Delivery','659':'Normal Delivery, And Other Indications For Care In Pregnancy, Labor, And Delivery','660':'Complications Occurring Mainly In The Course Of Labor And Delivery','661':'Complications Occurring Mainly In The Course Of Labor And Delivery','663':'Complications Occurring Mainly In The Course Of Labor And Delivery','664':'Complications Occurring Mainly In The Course Of Labor And Delivery','665':'Complications Occurring Mainly In The Course Of Labor And Delivery','669':'Complications Occurring Mainly In The Course Of Labor And Delivery','671':'Complications Of The Puerperium','674':'Complications Of The Puerperium','680':'Infections Of Skin And Subcutaneous Tissue','681':'Infections Of Skin And Subcutaneous Tissue','682':'Infections Of Skin And Subcutaneous Tissue','683':'Infections Of Skin And Subcutaneous Tissue','684':'Infections Of Skin And Subcutaneous Tissue','685':'Infections Of Skin And Subcutaneous Tissue','686':'Infections Of Skin And Subcutaneous Tissue','690':'Other Inflammatory Conditions Of Skin And Subcutaneous Tissue','691':'Other Inflammatory Conditions Of Skin And Subcutaneous Tissue','692':'Other Inflammatory Conditions Of Skin And Subcutaneous Tissue','693':'Other Inflammatory Conditions Of Skin And Subcutaneous Tissue','694':'Other Inflammatory Conditions Of Skin And Subcutaneous Tissue','695':'Other Inflammatory Conditions Of Skin And Subcutaneous Tissue','696':'Other Inflammatory Conditions Of Skin And Subcutaneous Tissue','698':'Other Inflammatory Conditions Of Skin And Subcutaneous Tissue','700':'Other Diseases Of Skin And Subcutaneous Tissue','703':'Other Diseases Of Skin And Subcutaneous Tissue','704':'Other Diseases Of Skin And Subcutaneous Tissue','705':'Other Diseases Of Skin And Subcutaneous Tissue','706':'Other Diseases Of Skin And Subcutaneous Tissue','707':'Other Diseases Of Skin And Subcutaneous Tissue','708':'Other Diseases Of Skin And Subcutaneous Tissue','709':'Other Diseases Of Skin And Subcutaneous Tissue','710':'Arthropathies And Related Disorders','711':'Arthropathies And Related Disorders','714':'Arthropathies And Related Disorders','715':'Arthropathies And Related Disorders','716':'Arthropathies And Related Disorders','717':'Arthropathies And Related Disorders','718':'Arthropathies And Related Disorders','719':'Arthropathies And Related Disorders','720':'Dorsopathies','721':'Dorsopathies','722':'Dorsopathies','723':'Dorsopathies','724':'Dorsopathies','725':'Rheumatism, Excluding The Back','726':'Rheumatism, Excluding The Back','727':'Rheumatism, Excluding The Back','728':'Rheumatism, Excluding The Back','730':'Osteopathies, Chondropathies, And Acquired Musculoskeletal Deformities','731':'Osteopathies, Chondropathies, And Acquired Musculoskeletal Deformities','732':'Osteopathies, Chondropathies, And Acquired Musculoskeletal Deformities','733':'Osteopathies, Chondropathies, And Acquired Musculoskeletal Deformities','734':'Osteopathies, Chondropathies, And Acquired Musculoskeletal Deformities','735':'Osteopathies, Chondropathies, And Acquired Musculoskeletal Deformities','736':'Osteopathies, Chondropathies, And Acquired Musculoskeletal Deformities','737':'Osteopathies, Chondropathies, And Acquired Musculoskeletal Deformities','738':'Osteopathies, Chondropathies, And Acquired Musculoskeletal Deformities','745':'Congential Anomalies','746':'Congential Anomalies','747':'Congential Anomalies','751':'Congential Anomalies','753':'Congential Anomalies','756':'Congential Anomalies','759':'Congential Anomalies','780':'Symptoms','781':'Symptoms','782':'Symptoms','783':'Symptoms','784':'Symptoms','785':'Symptoms','786':'Symptoms','787':'Symptoms','788':'Symptoms','789':'Symptoms','790':'Nonspecific Abnormal Findings','791':'Nonspecific Abnormal Findings','792':'Nonspecific Abnormal Findings','793':'Nonspecific Abnormal Findings','794':'Nonspecific Abnormal Findings','795':'Nonspecific Abnormal Findings','796':'Nonspecific Abnormal Findings','797':'Ill-Defined And Unknown Causes Of Morbidity And Mortality','799':'Ill-Defined And Unknown Causes Of Morbidity And Mortality','800':'Fracture Of Skull','801':'Fracture Of Skull','802':'Fracture Of Skull','803':'Fracture Of Skull','804':'Fracture Of Skull','805':'Fracture Of Spine And Trunk','806':'Fracture Of Spine And Trunk','807':'Fracture Of Spine And Trunk','808':'Fracture Of Spine And Trunk','810':'Fracture Of Upper Limb','812':'Fracture Of Upper Limb','813':'Fracture Of Upper Limb','814':'Fracture Of Upper Limb','815':'Fracture Of Upper Limb','816':'Fracture Of Upper Limb','817':'Fracture Of Upper Limb','820':'Fracture Of Lower Limb','821':'Fracture Of Lower Limb','822':'Fracture Of Lower Limb','823':'Fracture Of Lower Limb','824':'Fracture Of Lower Limb','825':'Fracture Of Lower Limb','826':'Fracture Of Lower Limb','827':'Fracture Of Lower Limb','831':'Dislocation','832':'Dislocation','833':'Dislocation','834':'Dislocation','835':'Dislocation','836':'Dislocation','837':'Dislocation','838':'Dislocation','839':'Dislocation','840':'Sprains And Strains Of Joints And Adjacent Muscles','842':'Sprains And Strains Of Joints And Adjacent Muscles','843':'Sprains And Strains Of Joints And Adjacent Muscles','844':'Sprains And Strains Of Joints And Adjacent Muscles','845':'Sprains And Strains Of Joints And Adjacent Muscles','840':'Sprains And Strains Of Joints And Adjacent Muscles','842':'Sprains And Strains Of Joints And Adjacent Muscles','843':'Sprains And Strains Of Joints And Adjacent Muscles','844':'Sprains And Strains Of Joints And Adjacent Muscles','845':'Sprains And Strains Of Joints And Adjacent Muscles','846':'Sprains And Strains Of Joints And Adjacent Muscles','847':'Sprains And Strains Of Joints And Adjacent Muscles','848':'Sprains And Strains Of Joints And Adjacent Muscles','850':'Intracranial Injury, Excluding Those With Skull Fracture','851':'Intracranial Injury, Excluding Those With Skull Fracture','852':'Intracranial Injury, Excluding Those With Skull Fracture','853':'Intracranial Injury, Excluding Those With Skull Fracture','854':'Intracranial Injury, Excluding Those With Skull Fracture','860':'Internal Injury Of Chest, Abdomen, And Pelvis','861':'Internal Injury Of Chest, Abdomen, And Pelvis','862':'Internal Injury Of Chest, Abdomen, And Pelvis','863':'Internal Injury Of Chest, Abdomen, And Pelvis','864':'Internal Injury Of Chest, Abdomen, And Pelvis','865':'Internal Injury Of Chest, Abdomen, And Pelvis','866':'Internal Injury Of Chest, Abdomen, And Pelvis','867':'Internal Injury Of Chest, Abdomen, And Pelvis','868':'Internal Injury Of Chest, Abdomen, And Pelvis','870':'Open Wound Of Head, Neck, And Trunk','871':'Open Wound Of Head, Neck, And Trunk','873':'Open Wound Of Head, Neck, And Trunk','875':'Open Wound Of Head, Neck, And Trunk','878':'Open Wound Of Head, Neck, And Trunk','879':'Open Wound Of Head, Neck, And Trunk','880':'Open Wound Of Upper Limb','881':'Open Wound Of Upper Limb','882':'Open Wound Of Upper Limb','883':'Open Wound Of Upper Limb','885':'Open Wound Of Upper Limb','887':'Open Wound Of Upper Limb','890':'Open Wound Of Lower Limb','891':'Open Wound Of Lower Limb','892':'Open Wound Of Lower Limb','893':'Open Wound Of Lower Limb','895':'Open Wound Of Lower Limb','897':'Open Wound Of Lower Limb','903':'Internal Injury Of Chest, Abdomen, And Pelvis','904':'Internal Injury Of Chest, Abdomen, And Pelvis','906':'Late Effects Of Injuries, Poisonings, Toxic Effects, And Other External Causes','911':'Superficial Injury','913':'Superficial Injury','914':'Superficial Injury','915':'Superficial Injury','916':'Superficial Injury','917':'Superficial Injury','919':'Superficial Injury','920':'Contusion With Intact Skin Surface','921':'Contusion With Intact Skin Surface','922':'Contusion With Intact Skin Surface','923':'Contusion With Intact Skin Surface','924':'Contusion With Intact Skin Surface','928':'Crushing Injury','933':'Effects Of Foreign Body Entering Through Orifice','934':'Effects Of Foreign Body Entering Through Orifice','935':'Effects Of Foreign Body Entering Through Orifice','936':'Effects Of Foreign Body Entering Through Orifice','939':'Effects Of Foreign Body Entering Through Orifice','941':'Burns','942':'Burns','944':'Burns','945':'Burns','952':'Injury To Nerves And Spinal Cord','955':'Injury To Nerves And Spinal Cord','957':'Injury To Nerves And Spinal Cord','958':'Certain Traumatic Complications And Unspecified Injuries','959':'Certain Traumatic Complications And Unspecified Injuries','962':'Poisoning By Drugs, Medicinals And Biological Substances','963':'Poisoning By Drugs, Medicinals And Biological Substances','964':'Poisoning By Drugs, Medicinals And Biological Substances','965':'Poisoning By Drugs, Medicinals And Biological Substances','966':'Poisoning By Drugs, Medicinals And Biological Substances','967':'Poisoning By Drugs, Medicinals And Biological Substances','968':'Poisoning By Drugs, Medicinals And Biological Substances','969':'Poisoning By Drugs, Medicinals And Biological Substances','970':'Poisoning By Drugs, Medicinals And Biological Substances','971':'Poisoning By Drugs, Medicinals And Biological Substances','972':'Poisoning By Drugs, Medicinals And Biological Substances','973':'Poisoning By Drugs, Medicinals And Biological Substances','974':'Poisoning By Drugs, Medicinals And Biological Substances','975':'Poisoning By Drugs, Medicinals And Biological Substances','976':'Poisoning By Drugs, Medicinals And Biological Substances','977':'Poisoning By Drugs, Medicinals And Biological Substances','980':'Toxic Effects Of Substances Chiefly Nonmedicinal As To Source','982':'Toxic Effects Of Substances Chiefly Nonmedicinal As To Source','983':'Toxic Effects Of Substances Chiefly Nonmedicinal As To Source','986':'Toxic Effects Of Substances Chiefly Nonmedicinal As To Source','987':'Toxic Effects Of Substances Chiefly Nonmedicinal As To Source','988':'Toxic Effects Of Substances Chiefly Nonmedicinal As To Source','989':'Toxic Effects Of Substances Chiefly Nonmedicinal As To Source','990':'Other And Unspecified Effects Of External Causes','991':'Other And Unspecified Effects Of External Causes','992':'Other And Unspecified Effects Of External Causes','994':'Other And Unspecified Effects Of External Causes','995':'Other And Unspecified Effects Of External Causes','996':'Complications Of Surgical And Medical Care, Not Elsewhere Classified','997':'Complications Of Surgical And Medical Care, Not Elsewhere Classified','998':'Complications Of Surgical And Medical Care, Not Elsewhere Classified','999':'Complications Of Surgical And Medical Care, Not Elsewhere Classified','E909':'Accidental Injuries And Poisoning','V07':'Factors Influencing Health Status And Contact With Health Services','V25':'Factors Influencing Health Status And Contact With Health Services','V26':'Factors Influencing Health Status And Contact With Health Services','V43':'Factors Influencing Health Status And Contact With Health Services','V45':'Factors Influencing Health Status And Contact With Health Services','V51':'Factors Influencing Health Status And Contact With Health Services','V53':'Factors Influencing Health Status And Contact With Health Services','V54':'Factors Influencing Health Status And Contact With Health Services','V55':'Factors Influencing Health Status And Contact With Health Services','V56':'Factors Influencing Health Status And Contact With Health Services','V57':'Factors Influencing Health Status And Contact With Health Services','V58':'Factors Influencing Health Status And Contact With Health Services','V60':'Factors Influencing Health Status And Contact With Health Services','V63':'Factors Influencing Health Status And Contact With Health Services','V66':'Factors Influencing Health Status And Contact With Health Services','V67':'Factors Influencing Health Status And Contact With Health Services','V70':'Factors Influencing Health Status And Contact With Health Services','V71':'Factors Influencing Health Status And Contact With Health Services','No diagnosis done':'No Diagnosis Done'}  "
      ],
      "execution_count": null,
      "outputs": [
        {
          "output_type": "stream",
          "text": [
            "time: 27 ms\n"
          ],
          "name": "stdout"
        }
      ]
    },
    {
      "cell_type": "code",
      "metadata": {
        "tags": [],
        "id": "6oQbC9bsGB1h",
        "colab_type": "code",
        "colab": {},
        "outputId": "d171f969-cedb-422d-b6f9-53476523724b"
      },
      "source": [
        "len(d1)"
      ],
      "execution_count": null,
      "outputs": [
        {
          "output_type": "execute_result",
          "data": {
            "text/plain": [
              "168"
            ]
          },
          "metadata": {
            "tags": []
          },
          "execution_count": 22
        },
        {
          "output_type": "stream",
          "text": [
            "time: 6 ms\n"
          ],
          "name": "stdout"
        }
      ]
    },
    {
      "cell_type": "code",
      "metadata": {
        "tags": [],
        "id": "KH2-V5kXGB1v",
        "colab_type": "code",
        "colab": {},
        "outputId": "7826519b-d5d1-4141-885e-407949b46054"
      },
      "source": [
        "d2 = {'5':'Intestinal Infectious Diseases','7':'Intestinal Infectious Diseases','8':'Intestinal Infectious Diseases','9':'Intestinal Infectious Diseases','11':'Tuberculosis','27':'Zoonotic Bacterial Diseases','31':'Other Bacterial Diseases','34':'Other Bacterial Diseases','35':'Other Bacterial Diseases','38':'Other Bacterial Diseases','40':'Other Bacterial Diseases','41':'Other Bacterial Diseases','42':'Human Immunodeficiency Virus', '46':'Poliomyelitis And Other Non-Arthropod-Borne Viral Diseases Of Central Nervous System','52':'Viral Diseases Accompanied By Exanthem', '53':'Viral Diseases Accompanied By Exanthem', '54':'Viral Diseases Accompanied By Exanthem','66': 'Arthropod-Borne Viral Diseases', '70':'Other Diseases Due To Viruses And Chlamydiae', '75':'Other Diseases Due To Viruses And Chlamydiae', '78':'Other Diseases Due To Viruses And Chlamydiae', '79':'Other Diseases Due To Viruses And Chlamydiae', '88':' Rickettsioses And Other Arthropod-Borne Diseases', '94':'Syphilis And Other Venereal Diseases', '96':'Syphilis And Other Venereal Diseases', '99':'Syphilis And Other Venereal Diseases', '110':'Mycoses', '111':'Mycoses','112':'Mycoses', '114':'Mycoses' , '115':'Mycoses', '117':'Mycoses', '123':'Helminthiases', '131':'Other Infectious And Parasitic Diseases', '135':'Other Infectious And Parasitic Diseases' , '136':'Other Infectious And Parasitic Diseases', '137':'Late Effects Of Infectious And Parasitic Diseases', '138':'Late Effects Of Infectious And Parasitic Diseases','140':'Malignant Neoplasm Of Lip, Oral Cavity, And Pharynx', '141':'Malignant Neoplasm Of Lip, Oral Cavity, And Pharynx', '145':'Malignant Neoplasm Of Lip, Oral Cavity, And Pharynx', '150':'Malignant Neoplasm Of Digestive Organs And Peritoneum', '151':'Malignant Neoplasm Of Digestive Organs And Peritoneum', '152':'Malignant Neoplasm Of Digestive Organs And Peritoneum', '153':'Malignant Neoplasm Of Digestive Organs And Peritoneum', '154':'Malignant Neoplasm Of Digestive Organs And Peritoneum', '155':'Malignant Neoplasm Of Digestive Organs And Peritoneum', '156':'Malignant Neoplasm Of Digestive Organs And Peritoneum', '157':'Malignant Neoplasm Of Digestive Organs And Peritoneum','162':'Malignant Neoplasm Of Respiratory And Intrathoracic Organs','163':'Malignant Neoplasm Of Respiratory And Intrathoracic Organs','164':'Malignant Neoplasm Of Respiratory And Intrathoracic Organs','171':'Malignant Neoplasm Of Bone, Connective Tissue, Skin, And Breast','172':'Malignant Neoplasm Of Bone, Connective Tissue, Skin, And Breast','173':'Malignant Neoplasm Of Bone, Connective Tissue, Skin, And Breast','174':'Malignant Neoplasm Of Bone, Connective Tissue, Skin, And Breast','179':'Malignant Neoplasm Of Genitourinary Organs','180':'Malignant Neoplasm Of Genitourinary Organs','182':'Malignant Neoplasm Of Genitourinary Organs','183':'Malignant Neoplasm Of Genitourinary Organs','185':'Malignant Neoplasm Of Genitourinary Organs','186':'Malignant Neoplasm Of Genitourinary Organs','188':'Malignant Neoplasm Of Genitourinary Organs','189':'Malignant Neoplasm Of Genitourinary Organs','191':'Malignant Neoplasm Of Other And Unspecified Sites','192':'Malignant Neoplasm Of Other And Unspecified Sites','193':'Malignant Neoplasm Of Other And Unspecified Sites','195':'Malignant Neoplasm Of Other And Unspecified Sites','196':'Malignant Neoplasm Of Other And Unspecified Sites','197':'Malignant Neoplasm Of Other And Unspecified Sites','198':'Malignant Neoplasm Of Other And Unspecified Sites','199':'Malignant Neoplasm Of Other And Unspecified Sites','200':'Malignant Neoplasm Of Lymphatic And Hematopoietic Tissue','201':'Malignant Neoplasm Of Lymphatic And Hematopoietic Tissue','202':'Malignant Neoplasm Of Lymphatic And Hematopoietic Tissue','203':'Malignant Neoplasm Of Lymphatic And Hematopoietic Tissue','204':'Malignant Neoplasm Of Lymphatic And Hematopoietic Tissue','205':'Malignant Neoplasm Of Lymphatic And Hematopoietic Tissue','208':'Malignant Neoplasm Of Lymphatic And Hematopoietic Tissue','211':'Benign Neoplasms','212':'Benign Neoplasms','214':'Benign Neoplasms','215':'Benign Neoplasms','217':'Benign Neoplasms','218':'Benign Neoplasms','220':'Benign Neoplasms','223':'Benign Neoplasms','225':'Benign Neoplasms','226':'Benign Neoplasms','227':'Benign Neoplasms','228':'Benign Neoplasms','232':'Carcinoma In Situ','233':'Carcinoma In Situ','235':'Neoplasms Of Uncertain Behavior','238':'Neoplasms Of Uncertain Behavior','239':'Neoplasms Of Unspecified Nature','240':'Disorders Of Thyroid Gland','241':'Disorders Of Thyroid Gland','242':'Disorders Of Thyroid Gland','244':'Disorders Of Thyroid Gland','245':'Disorders Of Thyroid Gland','246':'Disorders Of Thyroid Gland','250':'Diabetes mellitus type 2','250.02':'Diabetes mellitus type 2','250.1':'Diabetes mellitus type 2','250.12':'Diabetes mellitus type 2','250.2':'Diabetes mellitus type 2','250.22':'Diabetes mellitus type 2','250.3':'Diabetes mellitus type 2','250.32':'Diabetes mellitus type 2','250.4':'Diabetes mellitus type 2','250.42':'Diabetes mellitus type 2','250.5':'Diabetes mellitus type 2','250.52':'Diabetes mellitus type 2','250.6':'Diabetes mellitus type 2','250.7':'Diabetes mellitus type 2','250.8':'Diabetes mellitus type 2','250.82':'Diabetes mellitus type 2','250.9':'Diabetes mellitus type 2','250.92':'Diabetes mellitus type 2','250.01':'Diabetes mellitus type 1','250.03':'Diabetes mellitus type 1','250.11':'Diabetes mellitus type 1','250.13':'Diabetes mellitus type 1','250.21':'Diabetes mellitus type 1','250.23':'Diabetes mellitus type 1','250.31':'Diabetes mellitus type 1','250.33':'Diabetes mellitus type 1','250.41':'Diabetes mellitus type 1','250.43':'Diabetes mellitus type 1','250.51':'Diabetes mellitus type 1','250.53':'Diabetes mellitus type 1','250.81':'Diabetes mellitus type 1','250.83':'Diabetes mellitus type 1','250.91':'Diabetes mellitus type 1','250.93':'Diabetes mellitus type 1','251':'Diseases Of Other Endocrine Glands','252':'Diseases Of Other Endocrine Glands','253':'Diseases Of Other Endocrine Glands','255':'Diseases Of Other Endocrine Glands','256':'Diseases Of Other Endocrine Glands','260':'Nutritional Deficiencies','261':'Nutritional Deficiencies','262':'Nutritional Deficiencies','263':'Nutritional Deficiencies','266':'Nutritional Deficiencies','268':'Nutritional Deficiencies','269':'Nutritional Deficiencies','270':'Other Metabolic Disorders And Immunity Disorders','271':'Other Metabolic Disorders And Immunity Disoders','272':'Other Metabolic Disorders And Immunity Disorders','273':'Other Metabolic Disorders And Immunity Disorders','274':'Other Metabolic Disorders And Immunity Disorders','275':'Other Metabolic Disorders And Immunity Disorders','276':'Other Metabolic Disorders And Immunity Disorders','277':'Other Metabolic Disorders And Immunity Disorders','278':'Other Metabolic Disorders And Immunity Disorders','279':'Other Metabolic Disorders And Immunity Disorders','280':'Diseases Of The Blood And Blood-Forming Organs','281':'Diseases Of The Blood And Blood-Forming Organs','282':'Diseases Of The Blood And Blood-Forming Organs','283':'Diseases Of The Blood And Blood-Forming Organs','284':'Diseases Of The Blood And Blood-Forming Organs','285':'Diseases Of The Blood And Blood-Forming Organs','286':'Diseases Of The Blood And Blood-Forming Organs','287':'Diseases Of The Blood And Blood-Forming Organs','288':'Diseases Of The Blood And Blood-Forming Organs','289':'Diseases Of The Blood And Blood-Forming Organs'}"
      ],
      "execution_count": null,
      "outputs": [
        {
          "output_type": "stream",
          "text": [
            "time: 32 ms\n"
          ],
          "name": "stdout"
        }
      ]
    },
    {
      "cell_type": "code",
      "metadata": {
        "tags": [],
        "id": "6NsCfb7TGB19",
        "colab_type": "code",
        "colab": {},
        "outputId": "4565f51f-b7a3-4ea7-fbf0-57d3ca790e88"
      },
      "source": [
        "d3 = {'3':'Intestinal Infectious Diseases', '5':'Intestinal Infectious Diseases','7':'Intestinal Infectious Diseases','8':'Intestinal Infectious Diseases','9':'Intestinal Infectious Diseases', '11':'Tuberculosis','14':'Tuberculosis', '17':'Tuberculosis', '27':'Zoonotic Bacterial Diseases', '34':'Other Bacterial Diseases','35':'Other Bacterial Diseases','38':'Other Bacterial Diseases','41':'Other Bacterial Diseases','42':'Human Immunodeficiency Virus', '47':'Poliomyelitis And Other Non-Arthropod-Borne Viral Diseases Of Central Nervous System','49':'Poliomyelitis And Other Non-Arthropod-Borne Viral Diseases Of Central Nervous System','52':'Viral Diseases Accompanied By Exanthem', '53':'Viral Diseases Accompanied By Exanthem', '54':'Viral Diseases Accompanied By Exanthem','57':'Viral Diseases Accompanied By Exanthem','66': 'Arthropod-Borne Viral Diseases', '70':'Other Diseases Due To Viruses And Chlamydiae', '75':'Other Diseases Due To Viruses And Chlamydiae', '78':'Other Diseases Due To Viruses And Chlamydiae', '79':'Other Diseases Due To Viruses And Chlamydiae', '88':' Rickettsioses And Other Arthropod-Borne Diseases', '94':'Syphilis And Other Venereal Diseases', '110':'Mycoses', '111':'Mycoses','112':'Mycoses', '115':'Mycoses', '117':'Mycoses','122':'Helminthiases', '123':'Helminthiases', '131':'Other Infectious And Parasitic Diseases', '132':'Other Infectious And Parasitic Diseases', '135':'Other Infectious And Parasitic Diseases' , '136':'Other Infectious And Parasitic Diseases', '138':'Late Effects Of Infectious And Parasitic Diseases', '139':'Late Effects Of Infectious And Parasitic Diseases','141':'Malignant Neoplasm Of Lip, Oral Cavity, And Pharynx', '146':'Malignant Neoplasm Of Lip, Oral Cavity, And Pharynx', '148':'Malignant Neoplasm Of Lip, Oral Cavity, And Pharynx','150':'Malignant Neoplasm Of Digestive Organs And Peritoneum', '151':'Malignant Neoplasm Of Digestive Organs And Peritoneum', '152':'Malignant Neoplasm Of Digestive Organs And Peritoneum', '153':'Malignant Neoplasm Of Digestive Organs And Peritoneum', '154':'Malignant Neoplasm Of Digestive Organs And Peritoneum', '155':'Malignant Neoplasm Of Digestive Organs And Peritoneum', '156':'Malignant Neoplasm Of Digestive Organs And Peritoneum', '157':'Malignant Neoplasm Of Digestive Organs And Peritoneum', '158':'Malignant Neoplasm Of Digestive Organs And Peritoneum','161':'Malignant Neoplasm Of Respiratory And Intrathoracic Organs','162':'Malignant Neoplasm Of Respiratory And Intrathoracic Organs','163':'Malignant Neoplasm Of Respiratory And Intrathoracic Organs','164':'Malignant Neoplasm Of Respiratory And Intrathoracic Organs','170':'Malignant Neoplasm Of Bone, Connective Tissue, Skin, And Breast','171':'Malignant Neoplasm Of Bone, Connective Tissue, Skin, And Breast','172':'Malignant Neoplasm Of Bone, Connective Tissue, Skin, And Breast','173':'Malignant Neoplasm Of Bone, Connective Tissue, Skin, And Breast','174':'Malignant Neoplasm Of Bone, Connective Tissue, Skin, And Breast','175':'Malignant Neoplasm Of Bone, Connective Tissue, Skin, And Breast','179':'Malignant Neoplasm Of Genitourinary Organs','180':'Malignant Neoplasm Of Genitourinary Organs','182':'Malignant Neoplasm Of Genitourinary Organs','183':'Malignant Neoplasm Of Genitourinary Organs','185':'Malignant Neoplasm Of Genitourinary Organs','188':'Malignant Neoplasm Of Genitourinary Organs','189':'Malignant Neoplasm Of Genitourinary Organs','191':'Malignant Neoplasm Of Other And Unspecified Sites','192':'Malignant Neoplasm Of Other And Unspecified Sites','193':'Malignant Neoplasm Of Other And Unspecified Sites','195':'Malignant Neoplasm Of Other And Unspecified Sites','196':'Malignant Neoplasm Of Other And Unspecified Sites','197':'Malignant Neoplasm Of Other And Unspecified Sites','198':'Malignant Neoplasm Of Other And Unspecified Sites','199':'Malignant Neoplasm Of Other And Unspecified Sites','200':'Malignant Neoplasm Of Lymphatic And Hematopoietic Tissue','201':'Malignant Neoplasm Of Lymphatic And Hematopoietic Tissue','202':'Malignant Neoplasm Of Lymphatic And Hematopoietic Tissue','203':'Malignant Neoplasm Of Lymphatic And Hematopoietic Tissue','204':'Malignant Neoplasm Of Lymphatic And Hematopoietic Tissue','205':'Malignant Neoplasm Of Lymphatic And Hematopoietic Tissue','208':'Malignant Neoplasm Of Lymphatic And Hematopoietic Tissue','211':'Benign Neoplasms','214':'Benign Neoplasms','215':'Benign Neoplasms','216':'Benign Neoplasms','217':'Benign Neoplasms','218':'Benign Neoplasms','220':'Benign Neoplasms','223':'Benign Neoplasms','225':'Benign Neoplasms','226':'Benign Neoplasms','227':'Benign Neoplasms','228':'Benign Neoplasms','230':'Carcinoma In Situ','233':'Carcinoma In Situ','235':'Neoplasms Of Uncertain Behavior','250':'Diabetes mellitus type 2','250.02':'Diabetes mellitus type 2','250.1':'Diabetes mellitus type 2','250.12':'Diabetes mellitus type 2','250.2':'Diabetes mellitus type 2','250.22':'Diabetes mellitus type 2','250.3':'Diabetes mellitus type 2','250.32':'Diabetes mellitus type 2','250.4':'Diabetes mellitus type 2','250.42':'Diabetes mellitus type 2','250.5':'Diabetes mellitus type 2','250.52':'Diabetes mellitus type 2','250.6':'Diabetes mellitus type 2','250.7':'Diabetes mellitus type 2','250.8':'Diabetes mellitus type 2','250.82':'Diabetes mellitus type 2','250.9':'Diabetes mellitus type 2','250.92':'Diabetes mellitus type 2','250.01':'Diabetes mellitus type 1','250.03':'Diabetes mellitus type 1','250.11':'Diabetes mellitus type 1','250.13':'Diabetes mellitus type 1','250.21':'Diabetes mellitus type 1','250.23':'Diabetes mellitus type 1','250.31':'Diabetes mellitus type 1','250.33':'Diabetes mellitus type 1','250.41':'Diabetes mellitus type 1','250.43':'Diabetes mellitus type 1','250.51':'Diabetes mellitus type 1','250.53':'Diabetes mellitus type 1','250.81':'Diabetes mellitus type 1','250.83':'Diabetes mellitus type 1','250.91':'Diabetes mellitus type 1','250.93':'Diabetes mellitus type 1','251':'Diseases Of Other Endocrine Glands','252':'Diseases Of Other Endocrine Glands','253':'Diseases Of Other Endocrine Glands','255':'Diseases Of Other Endocrine Glands','256':'Diseases Of Other Endocrine Glands','260':'Nutritional Deficiencies','261':'Nutritional Deficiencies','262':'Nutritional Deficiencies','263':'Nutritional Deficiencies','265':'Nutritional Deficiencies','266':'Nutritional Deficiencies','268':'Nutritional Deficiencies','270':'Other Metabolic Disorders And Immunity Disorders','271':'Other Metabolic Disorders And Immunity Disoders','272':'Other Metabolic Disorders And Immunity Disorders','273':'Other Metabolic Disorders And Immunity Disorders','274':'Other Metabolic Disorders And Immunity Disorders','275':'Other Metabolic Disorders And Immunity Disorders','276':'Other Metabolic Disorders And Immunity Disorders','277':'Other Metabolic Disorders And Immunity Disorders','278':'Other Metabolic Disorders And Immunity Disorders','279':'Other Metabolic Disorders And Immunity Disorders','280':'Diseases Of The Blood And Blood-Forming Organs','281':'Diseases Of The Blood And Blood-Forming Organs','282':'Diseases Of The Blood And Blood-Forming Organs','283':'Diseases Of The Blood And Blood-Forming Organs','284':'Diseases Of The Blood And Blood-Forming Organs','285':'Diseases Of The Blood And Blood-Forming Organs','286':'Diseases Of The Blood And Blood-Forming Organs','287':'Diseases Of The Blood And Blood-Forming Organs','288':'Diseases Of The Blood And Blood-Forming Organs','289':'Diseases Of The Blood And Blood-Forming Organs','290':'Organic Psychotic Conditions','291':'Organic Psychotic Conditions','292':'Organic Psychotic Conditions','293':'Organic Psychotic Conditions','294':'Organic Psychotic Conditions','295':'Other Psychoses','296':'Other Psychoses','297':'Other Psychoses','298':'Other Psychoses','299':'Other Psychoses','300':'Neurotic Disorders, Personality Disorders, And Other Nonpsychotic Mental Disorders','301':'Neurotic Disorders, Personality Disorders, And Other Nonpsychotic Mental Disorders','303':'Neurotic Disorders, Personality Disorders, And Other Nonpsychotic Mental Disorders','304':'Neurotic Disorders, Personality Disorders, And Other Nonpsychotic Mental Disorders','305':'Neurotic Disorders, Personality Disorders, And Other Nonpsychotic Mental Disorders','306':'Neurotic Disorders, Personality Disorders, And Other Nonpsychotic Mental Disorders','307':'Neurotic Disorders, Personality Disorders, And Other Nonpsychotic Mental Disorders','308':'Neurotic Disorders, Personality Disorders, And Other Nonpsychotic Mental Disorders','309':'Neurotic Disorders, Personality Disorders, And Other Nonpsychotic Mental Disorders','310':'Neurotic Disorders, Personality Disorders, And Other Nonpsychotic Mental Disorders','311':'Neurotic Disorders, Personality Disorders, And Other Nonpsychotic Mental Disorders','312':'Neurotic Disorders, Personality Disorders, And Other Nonpsychotic Mental Disorders','313':'Neurotic Disorders, Personality Disorders, And Other Nonpsychotic Mental Disorders','314':'Neurotic Disorders, Personality Disorders, And Other Nonpsychotic Mental Disorders','315':'Neurotic Disorders, Personality Disorders, And Other Nonpsychotic Mental Disorders','317':'Mental Retardation','318':'Mental Retardation','319':'Mental Retardation','323':'Inflammatory Diseases Of The Central Nervous System','327':'Inflammatory Diseases Of The Central Nervous System','331':'Hereditary And Degenerative Diseases Of The Central Nervous System','332':'Hereditary And Degenerative Diseases Of The Central Nervous System','333':'Hereditary And Degenerative Diseases Of The Central Nervous System','334':'Hereditary And Degenerative Diseases Of The Central Nervous System','335':'Hereditary And Degenerative Diseases Of The Central Nervous System','336':'Hereditary And Degenerative Diseases Of The Central Nervous System','337':'Hereditary And Degenerative Diseases Of The Central Nervous System','338':'Pain','340':'Other Disorders Of The Central Nervous System','341':'Other Disorders Of The Central Nervous System','342':'Other Disorders Of The Central Nervous System','343':'Other Disorders Of The Central Nervous System','344':'Other Disorders Of The Central Nervous System','345':'Other Disorders Of The Central Nervous System','346':'Other Disorders Of The Central Nervous System','347':'Other Disorders Of The Central Nervous System','348':'Other Disorders Of The Central Nervous System','349':'Other Disorders Of The Central Nervous System','360':'Disorders Of The Eye And Adnexa','361':'Disorders Of The Eye And Adnexa','362':'Disorders Of The Eye And Adnexa','365':'Disorders Of The Eye And Adnexa','365.44':'Disorders Of The Eye And Adnexa','366':'Disorders Of The Eye And Adnexa','368':'Disorders Of The Eye And Adnexa','369':'Disorders Of The Eye And Adnexa','370':'Disorders Of The Eye And Adnexa','372':'Disorders Of The Eye And Adnexa','373':'Disorders Of The Eye And Adnexa','374':'Disorders Of The Eye And Adnexa','376':'Disorders Of The Eye And Adnexa','377':'Disorders Of The Eye And Adnexa','378':'Disorders Of The Eye And Adnexa','379':'Disorders Of The Eye And Adnexa','380':'Diseases Of The Ear And Mastoid Process','381':'Diseases Of The Ear And Mastoid Process','382':'Diseases Of The Ear And Mastoid Process','383':'Diseases Of The Ear And Mastoid Process','384':'Diseases Of The Ear And Mastoid Process','385':'Diseases Of The Ear And Mastoid Process','386':'Diseases Of The Ear And Mastoid Process','387':'Diseases Of The Ear And Mastoid Process','388':'Diseases Of The Ear And Mastoid Process','389':'Diseases Of The Ear And Mastoid Process','391':'Rheumatic Fever','394':'Rheumatic Fever','395':'Rheumatic Fever','396':'Rheumatic Fever','397':'Rheumatic Fever','398':'Rheumatic Fever','401':'Hypertensive Disease','402':'Hypertensive Disease','403':'Hypertensive Disease','404':'Hypertensive Disease','405':'Hypertensive Disease','410':'Ischemic Heart Disease','411':'Ischemic Heart Disease','412':'Ischemic Heart Disease','413':'Ischemic Heart Disease','414':'Ischemic Heart Disease','415':'Diseases Of Pulmonary Circulation','416':'Diseases Of Pulmonary Circulation','417':'Diseases Of Pulmonary Circulation','420':'Other Forms Of Heart Disease','421':'Other Forms Of Heart Disease','423':'Other Forms Of Heart Disease','424':'Other Forms Of Heart Disease','425':'Other Forms Of Heart Disease','426':'Other Forms Of Heart Disease','427':'Other Forms Of Heart Disease','428':'Other Forms Of Heart Disease','429':'Other Forms Of Heart Disease','430':'Cerebrovascular Disease','431':'Cerebrovascular Disease','432':'Cerebrovascular Disease','433':'Cerebrovascular Disease','434':'Cerebrovascular Disease','435':'Cerebrovascular Disease','436':'Cerebrovascular Disease','437':'Cerebrovascular Disease','438':'Cerebrovascular Disease','440':'Diseases Of Arteries, Arterioles, And Capillaries','441':'Diseases Of Arteries, Arterioles, And Capillaries','442':'Diseases Of Arteries, Arterioles, And Capillaries','443':'Diseases Of Arteries, Arterioles, And Capillaries','444':'Diseases Of Arteries, Arterioles, And Capillaries','445':'Diseases Of Arteries, Arterioles, And Capillaries','446':'Diseases Of Arteries, Arterioles, And Capillaries','447':'Diseases Of Arteries, Arterioles, And Capillaries','448':'Diseases Of Arteries, Arterioles, And Capillaries','451':'Diseases Of Veins And Lymphatics, And Other Diseases Of Circulatory System','451':'Diseases Of Veins And Lymphatics, And Other Diseases Of Circulatory System','452':'Diseases Of Veins And Lymphatics, And Other Diseases Of Circulatory System','453':'Diseases Of Veins And Lymphatics, And Other Diseases Of Circulatory System','454':'Diseases Of Veins And Lymphatics, And Other Diseases Of Circulatory System','455':'Diseases Of Veins And Lymphatics, And Other Diseases Of Circulatory System','456':'Diseases Of Veins And Lymphatics, And Other Diseases Of Circulatory System','457':'Diseases Of Veins And Lymphatics, And Other Diseases Of Circulatory System','458':'Diseases Of Veins And Lymphatics, And Other Diseases Of Circulatory System','459':'Diseases Of Veins And Lymphatics, And Other Diseases Of Circulatory System','460':'Acute Respiratory Infections','461':'Acute Respiratory Infections','462':'Acute Respiratory Infections','463':'Acute Respiratory Infections','464':'Acute Respiratory Infections','465':'Acute Respiratory Infections','466':'Acute Respiratory Infections','470':'Other Diseases Of Upper Respiratory Tract','472':'Other Diseases Of Upper Respiratory Tract','473':'Other Diseases Of Upper Respiratory Tract','475':'Other Diseases Of Upper Respiratory Tract','477':'Other Diseases Of Upper Respiratory Tract','478':'Other Diseases Of Upper Respiratory Tract','480':'Pneumonia And Influenza','481':'Pneumonia And Influenza','482':'Pneumonia And Influenza','483':'Pneumonia And Influenza','484':'Pneumonia And Influenza','485':'Pneumonia And Influenza','486':'Pneumonia And Influenza','487':'Pneumonia And Influenza','490':'Chronic Obstructive Pulmonary Disease And Allied Conditions','491':'Chronic Obstructive Pulmonary Disease And Allied Conditions','492':'Chronic Obstructive Pulmonary Disease And Allied Conditions','493':'Chronic Obstructive Pulmonary Disease And Allied Conditions','494':'Chronic Obstructive Pulmonary Disease And Allied Conditions','495':'Chronic Obstructive Pulmonary Disease And Allied Conditions','496':'Chronic Obstructive Pulmonary Disease And Allied Conditions','500':'Pneumoconioses And Other Lung Diseases Due To External Agents','501':'Pneumoconioses And Other Lung Diseases Due To External Agents','506':'Pneumoconioses And Other Lung Diseases Due To External Agents','507':'Pneumoconioses And Other Lung Diseases Due To External Agents','508':'Pneumoconioses And Other Lung Diseases Due To External Agents','510':'Other Diseases Of Respiratory System','511':'Other Diseases Of Respiratory System','512':'Other Diseases Of Respiratory System','514':'Other Diseases Of Respiratory System','515':'Other Diseases Of Respiratory System','516':'Other Diseases Of Respiratory System','517':'Other Diseases Of Respiratory System','518':'Other Diseases Of Respiratory System','519':'Other Diseases Of Respiratory System','521':'Diseases Of Oral Cavity, Salivary Glands, And Jaws','522':'Diseases Of Oral Cavity, Salivary Glands, And Jaws','523':'Diseases Of Oral Cavity, Salivary Glands, And Jaws','524':'Diseases Of Oral Cavity, Salivary Glands, And Jaws','525':'Diseases Of Oral Cavity, Salivary Glands, And Jaws','527':'Diseases Of Oral Cavity, Salivary Glands, And Jaws','528':'Diseases Of Oral Cavity, Salivary Glands, And Jaws','529':'Diseases Of Oral Cavity, Salivary Glands, And Jaws','530':'Diseases Of Esophagus, Stomach, And Duodenum','531':'Diseases Of Esophagus, Stomach, And Duodenum','532':'Diseases Of Esophagus, Stomach, And Duodenum','533':'Diseases Of Esophagus, Stomach, And Duodenum','534':'Diseases Of Esophagus, Stomach, And Duodenum','535':'Diseases Of Esophagus, Stomach, And Duodenum','536':'Diseases Of Esophagus, Stomach, And Duodenum','537':'Diseases Of Esophagus, Stomach, And Duodenum','538':'Diseases Of Esophagus, Stomach, And Duodenum','540':'Appendicitis','542':'Appendicitis','543':'Appendicitis','550':'Hernia Of Abdominal Cavity','552':'Hernia Of Abdominal Cavity','553':'Hernia Of Abdominal Cavity','555':'Noninfective Enteritis And Colitis','556':'Noninfective Enteritis And Colitis','557':'Noninfective Enteritis And Colitis','558':'Noninfective Enteritis And Colitis','560':'Other Diseases Of Intestines And Peritoneum','562':'Other Diseases Of Intestines And Peritoneum','564':'Other Diseases Of Intestines And Peritoneum','565':'Other Diseases Of Intestines And Peritoneum','566':'Other Diseases Of Intestines And Peritoneum','567':'Other Diseases Of Intestines And Peritoneum','568':'Other Diseases Of Intestines And Peritoneum','569':'Other Diseases Of Intestines And Peritoneum','570':'Other Diseases Of Digestive System','571':'Other Diseases Of Digestive System','572':'Other Diseases Of Digestive System','573':'Other Diseases Of Digestive System','574':'Other Diseases Of Digestive System','575':'Other Diseases Of Digestive System','576':'Other Diseases Of Digestive System','577':'Other Diseases Of Digestive System','578':'Other Diseases Of Digestive System','579':'Other Diseases Of Digestive System','580':'Nephritis, Nephrotic Syndrome, And Nephrosis','581':'Nephritis, Nephrotic Syndrome, And Nephrosis','582':'Nephritis, Nephrotic Syndrome, And Nephrosis','583':'Nephritis, Nephrotic Syndrome, And Nephrosis','584':'Nephritis, Nephrotic Syndrome, And Nephrosis','585':'Nephritis, Nephrotic Syndrome, And Nephrosis','586':'Nephritis, Nephrotic Syndrome, And Nephrosis','588':'Nephritis, Nephrotic Syndrome, And Nephrosis','590':'Other Diseases Of Urinary System','591':'Other Diseases Of Urinary System','592':'Other Diseases Of Urinary System','593':'Other Diseases Of Urinary System','594':'Other Diseases Of Urinary System','595':'Other Diseases Of Urinary System','596':'Other Diseases Of Urinary System','597':'Other Diseases Of Urinary System','598':'Other Diseases Of Urinary System','599':'Other Diseases Of Urinary System','600':'Diseases Of Male Genital Organs','601':'Diseases Of Male Genital Organs','602':'Diseases Of Male Genital Organs','603':'Diseases Of Male Genital Organs','604':'Diseases Of Male Genital Organs','605':'Diseases Of Male Genital Organs','607':'Diseases Of Male Genital Organs','608':'Diseases Of Male Genital Organs','610':'Disorders Of Breast','611':'Disorders Of Breast','614':'Inflammatory Disease Of Female Pelvic Organs','616':'Inflammatory Disease Of Female Pelvic Organs','617':'Other Disorders Of Female Genital Tract','618':'Other Disorders Of Female Genital Tract','619':'Other Disorders Of Female Genital Tract','620':'Other Disorders Of Female Genital Tract','621':'Other Disorders Of Female Genital Tract','622':'Other Disorders Of Female Genital Tract','623':'Other Disorders Of Female Genital Tract','624':'Other Disorders Of Female Genital Tract','625':'Other Disorders Of Female Genital Tract','626':'Other Disorders Of Female Genital Tract','627':'Other Disorders Of Female Genital Tract','641':'Pregnancy Disorders','642':'Pregnancy Disorders','643':'Pregnancy Disorders','644':'Pregnancy Disorders','646':'Pregnancy Disorders','647':'Pregnancy Disorders','648':'Pregnancy Disorders','649':'Pregnancy Disorders','652':'Normal Delivery, And Other Indications For Care In Pregnancy, Labor, And Delivery','653':'Normal Delivery, And Other Indications For Care In Pregnancy, Labor, And Delivery','654':'Normal Delivery, And Other Indications For Care In Pregnancy, Labor, And Delivery','655':'Normal Delivery, And Other Indications For Care In Pregnancy, Labor, And Delivery','656':'Normal Delivery, And Other Indications For Care In Pregnancy, Labor, And Delivery','657':'Normal Delivery, And Other Indications For Care In Pregnancy, Labor, And Delivery','658':'Normal Delivery, And Other Indications For Care In Pregnancy, Labor, And Delivery','659':'Normal Delivery, And Other Indications For Care In Pregnancy, Labor, And Delivery','660':'Complications Occurring Mainly In The Course Of Labor And Delivery','661':'Complications Occurring Mainly In The Course Of Labor And Delivery','663':'Complications Occurring Mainly In The Course Of Labor And Delivery','664':'Complications Occurring Mainly In The Course Of Labor And Delivery','665':'Complications Occurring Mainly In The Course Of Labor And Delivery','669':'Complications Occurring Mainly In The Course Of Labor And Delivery','670':'Complications Of The Puerperium','671':'Complications Of The Puerperium','674':'Complications Of The Puerperium','680':'Infections Of Skin And Subcutaneous Tissue','681':'Infections Of Skin And Subcutaneous Tissue','682':'Infections Of Skin And Subcutaneous Tissue','684':'Infections Of Skin And Subcutaneous Tissue','685':'Infections Of Skin And Subcutaneous Tissue','686':'Infections Of Skin And Subcutaneous Tissue','690':'Other Inflammatory Conditions Of Skin And Subcutaneous Tissue','692':'Other Inflammatory Conditions Of Skin And Subcutaneous Tissue','693':'Other Inflammatory Conditions Of Skin And Subcutaneous Tissue','694':'Other Inflammatory Conditions Of Skin And Subcutaneous Tissue','695':'Other Inflammatory Conditions Of Skin And Subcutaneous Tissue','696':'Other Inflammatory Conditions Of Skin And Subcutaneous Tissue','697':'Other Inflammatory Conditions Of Skin And Subcutaneous Tissue','698':'Other Inflammatory Conditions Of Skin And Subcutaneous Tissue','701':'Other Diseases Of Skin And Subcutaneous Tissue','702':'Other Diseases Of Skin And Subcutaneous Tissue','703':'Other Diseases Of Skin And Subcutaneous Tissue','704':'Other Diseases Of Skin And Subcutaneous Tissue','705':'Other Diseases Of Skin And Subcutaneous Tissue','706':'Other Diseases Of Skin And Subcutaneous Tissue','707':'Other Diseases Of Skin And Subcutaneous Tissue','708':'Other Diseases Of Skin And Subcutaneous Tissue','709':'Other Diseases Of Skin And Subcutaneous Tissue','710':'Arthropathies And Related Disorders','711':'Arthropathies And Related Disorders','712':'Arthropathies And Related Disorders','713':'Arthropathies And Related Disorders','714':'Arthropathies And Related Disorders','715':'Arthropathies And Related Disorders','716':'Arthropathies And Related Disorders','717':'Arthropathies And Related Disorders','718':'Arthropathies And Related Disorders','719':'Arthropathies And Related Disorders','720':'Dorsopathies','721':'Dorsopathies','722':'Dorsopathies','723':'Dorsopathies','724':'Dorsopathies','725':'Rheumatism, Excluding The Back','726':'Rheumatism, Excluding The Back','727':'Rheumatism, Excluding The Back','728':'Rheumatism, Excluding The Back','729':'Rheumatism, Excluding The Back','730':'Osteopathies, Chondropathies, And Acquired Musculoskeletal Deformities','731':'Osteopathies, Chondropathies, And Acquired Musculoskeletal Deformities','732':'Osteopathies, Chondropathies, And Acquired Musculoskeletal Deformities','733':'Osteopathies, Chondropathies, And Acquired Musculoskeletal Deformities','734':'Osteopathies, Chondropathies, And Acquired Musculoskeletal Deformities','735':'Osteopathies, Chondropathies, And Acquired Musculoskeletal Deformities','736':'Osteopathies, Chondropathies, And Acquired Musculoskeletal Deformities','737':'Osteopathies, Chondropathies, And Acquired Musculoskeletal Deformities','738':'Osteopathies, Chondropathies, And Acquired Musculoskeletal Deformities','741':'Congential Anomalies','742':'Congential Anomalies','744':'Congential Anomalies','745':'Congential Anomalies','746':'Congential Anomalies','747':'Congential Anomalies','750':'Congential Anomalies','751':'Congential Anomalies','752':'Congential Anomalies','753':'Congential Anomalies','754':'Congential Anomalies','755':'Congential Anomalies','756':'Congential Anomalies','757':'Congential Anomalies','758':'Congential Anomalies','759':'Congential Anomalies','780':'Symptoms','781':'Symptoms','782':'Symptoms','783':'Symptoms','784':'Symptoms','785':'Symptoms','786':'Symptoms','787':'Symptoms','788':'Symptoms','789':'Symptoms','790':'Nonspecific Abnormal Findings','791':'Nonspecific Abnormal Findings','792':'Nonspecific Abnormal Findings','793':'Nonspecific Abnormal Findings','794':'Nonspecific Abnormal Findings','795':'Nonspecific Abnormal Findings','796':'Nonspecific Abnormal Findings','797':'Ill-Defined And Unknown Causes Of Morbidity And Mortality','799':'Ill-Defined And Unknown Causes Of Morbidity And Mortality','800':'Fracture Of Skull','801':'Fracture Of Skull','802':'Fracture Of Skull','805':'Fracture Of Spine And Trunk','807':'Fracture Of Spine And Trunk','808':'Fracture Of Spine And Trunk','810':'Fracture Of Upper Limb','811':'Fracture Of Upper Limb','812':'Fracture Of Upper Limb','813':'Fracture Of Upper Limb','814':'Fracture Of Upper Limb','815':'Fracture Of Upper Limb','816':'Fracture Of Upper Limb','820':'Fracture Of Lower Limb','821':'Fracture Of Lower Limb','822':'Fracture Of Lower Limb','823':'Fracture Of Lower Limb','824':'Fracture Of Lower Limb','825':'Fracture Of Lower Limb','826':'Fracture Of Lower Limb','831':'Dislocation','834':'Dislocation','835':'Dislocation','836':'Dislocation','837':'Dislocation','840':'Sprains And Strains Of Joints And Adjacent Muscles','842':'Sprains And Strains Of Joints And Adjacent Muscles','843':'Sprains And Strains Of Joints And Adjacent Muscles','844':'Sprains And Strains Of Joints And Adjacent Muscles','845':'Sprains And Strains Of Joints And Adjacent Muscles','840':'Sprains And Strains Of Joints And Adjacent Muscles','841':'Sprains And Strains Of Joints And Adjacent Muscles','842':'Sprains And Strains Of Joints And Adjacent Muscles','844':'Sprains And Strains Of Joints And Adjacent Muscles','845':'Sprains And Strains Of Joints And Adjacent Muscles','847':'Sprains And Strains Of Joints And Adjacent Muscles','848':'Sprains And Strains Of Joints And Adjacent Muscles','850':'Intracranial Injury, Excluding Those With Skull Fracture','851':'Intracranial Injury, Excluding Those With Skull Fracture','852':'Intracranial Injury, Excluding Those With Skull Fracture','853':'Intracranial Injury, Excluding Those With Skull Fracture','854':'Intracranial Injury, Excluding Those With Skull Fracture','860':'Internal Injury Of Chest, Abdomen, And Pelvis','861':'Internal Injury Of Chest, Abdomen, And Pelvis','862':'Internal Injury Of Chest, Abdomen, And Pelvis','863':'Internal Injury Of Chest, Abdomen, And Pelvis','864':'Internal Injury Of Chest, Abdomen, And Pelvis','865':'Internal Injury Of Chest, Abdomen, And Pelvis','866':'Internal Injury Of Chest, Abdomen, And Pelvis','867':'Internal Injury Of Chest, Abdomen, And Pelvis','868':'Internal Injury Of Chest, Abdomen, And Pelvis','870':'Open Wound Of Head, Neck, And Trunk','871':'Open Wound Of Head, Neck, And Trunk','872':'Open Wound Of Head, Neck, And Trunk','873':'Open Wound Of Head, Neck, And Trunk','875':'Open Wound Of Head, Neck, And Trunk','876':'Open Wound Of Head, Neck, And Trunk','877':'Open Wound Of Head, Neck, And Trunk','879':'Open Wound Of Head, Neck, And Trunk','880':'Open Wound Of Upper Limb','881':'Open Wound Of Upper Limb','882':'Open Wound Of Upper Limb','883':'Open Wound Of Upper Limb','884':'Open Wound Of Upper Limb','890':'Open Wound Of Lower Limb','891':'Open Wound Of Lower Limb','892':'Open Wound Of Lower Limb','893':'Open Wound Of Lower Limb','905':'Late Effects Of Injuries, Poisonings, Toxic Effects, And Other External Causes','906':'Late Effects Of Injuries, Poisonings, Toxic Effects, And Other External Causes','907':'Late Effects Of Injuries, Poisonings, Toxic Effects, And Other External Causes','908':'Late Effects Of Injuries, Poisonings, Toxic Effects, And Other External Causes','909':'Late Effects Of Injuries, Poisonings, Toxic Effects, And Other External Causes','910':'Superficial Injury','911':'Superficial Injury','912':'Superficial Injury','913':'Superficial Injury','915':'Superficial Injury','916':'Superficial Injury','917':'Superficial Injury','918':'Superficial Injury','919':'Superficial Injury','920':'Contusion With Intact Skin Surface','921':'Contusion With Intact Skin Surface','922':'Contusion With Intact Skin Surface','923':'Contusion With Intact Skin Surface','924':'Contusion With Intact Skin Surface','928':'Crushing Injury','930':'Effects Of Foreign Body Entering Through Orifice','933':'Effects Of Foreign Body Entering Through Orifice','934':'Effects Of Foreign Body Entering Through Orifice','935':'Effects Of Foreign Body Entering Through Orifice','942':'Burns','943':'Burns','944':'Burns','945':'Burns','948':'Burns','951':'Injury To Nerves And Spinal Cord','952':'Injury To Nerves And Spinal Cord','953':'Injury To Nerves And Spinal Cord','955':'Injury To Nerves And Spinal Cord','956':'Injury To Nerves And Spinal Cord','958':'Certain Traumatic Complications And Unspecified Injuries','959':'Certain Traumatic Complications And Unspecified Injuries','962':'Poisoning By Drugs, Medicinals And Biological Substances','965':'Poisoning By Drugs, Medicinals And Biological Substances','966':'Poisoning By Drugs, Medicinals And Biological Substances','967':'Poisoning By Drugs, Medicinals And Biological Substances','969':'Poisoning By Drugs, Medicinals And Biological Substances','970':'Poisoning By Drugs, Medicinals And Biological Substances','971':'Poisoning By Drugs, Medicinals And Biological Substances','972':'Poisoning By Drugs, Medicinals And Biological Substances','980':'Toxic Effects Of Substances Chiefly Nonmedicinal As To Source','987':'Toxic Effects Of Substances Chiefly Nonmedicinal As To Source','989':'Toxic Effects Of Substances Chiefly Nonmedicinal As To Source','991':'Other And Unspecified Effects Of External Causes','992':'Other And Unspecified Effects Of External Causes','995':'Other And Unspecified Effects Of External Causes','996':'Complications Of Surgical And Medical Care, Not Elsewhere Classified','997':'Complications Of Surgical And Medical Care, Not Elsewhere Classified','998':'Complications Of Surgical And Medical Care, Not Elsewhere Classified','999':'Complications Of Surgical And Medical Care, Not Elsewhere Classified','E812':'Accidental Injuries And Poisoning','E813':'Accidental Injuries And Poisoning','E815':'Accidental Injuries And Poisoning','E816':'Accidental Injuries And Poisoning','E817':'Accidental Injuries And Poisoning','E818':'Accidental Injuries And Poisoning','E819':'Accidental Injuries And Poisoning','E822':'Accidental Injuries And Poisoning','E825':'Accidental Injuries And Poisoning','E826':'Accidental Injuries And Poisoning','E828':'Accidental Injuries And Poisoning','E849':'Accidental Injuries And Poisoning','E850':'Accidental Injuries And Poisoning','E852':'Accidental Injuries And Poisoning','E853':'Accidental Injuries And Poisoning','E854':'Accidental Injuries And Poisoning','E855':'Accidental Injuries And Poisoning','E858':'Accidental Injuries And Poisoning','E861':'Accidental Injuries And Poisoning','E864':'Accidental Injuries And Poisoning','E865':'Accidental Injuries And Poisoning','E870':'Accidental Injuries And Poisoning','E876':'Accidental Injuries And Poisoning','E878':'Accidental Injuries And Poisoning','E879':'Accidental Injuries And Poisoning','E880':'Accidental Injuries And Poisoning','E881':'Accidental Injuries And Poisoning','E882':'Accidental Injuries And Poisoning','E883':'Accidental Injuries And Poisoning','E884':'Accidental Injuries And Poisoning','E885':'Accidental Injuries And Poisoning','E886':'Accidental Injuries And Poisoning','E887':'Accidental Injuries And Poisoning','E888':'Accidental Injuries And Poisoning','E892':'Accidental Injuries And Poisoning','E894':'Accidental Injuries And Poisoning','E900':'Accidental Injuries And Poisoning','E901':'Accidental Injuries And Poisoning','E904':'Accidental Injuries And Poisoning','E905':'Accidental Injuries And Poisoning','E906':'Accidental Injuries And Poisoning','E912':'Accidental Injuries And Poisoning','E915':'Accidental Injuries And Poisoning','E916':'Accidental Injuries And Poisoning','E917':'Accidental Injuries And Poisoning','E919':'Accidental Injuries And Poisoning','E920':'Accidental Injuries And Poisoning','E922':'Accidental Injuries And Poisoning','E924':'Accidental Injuries And Poisoning','E927':'Accidental Injuries And Poisoning','E928':'Accidental Injuries And Poisoning','E929':'Accidental Injuries And Poisoning','E930':'Accidental Injuries And Poisoning','E931':'Accidental Injuries And Poisoning','E932':'Accidental Injuries And Poisoning','E933':'Accidental Injuries And Poisoning','E934':'Accidental Injuries And Poisoning','E935':'Accidental Injuries And Poisoning','E936':'Accidental Injuries And Poisoning','E937':'Accidental Injuries And Poisoning','E938':'Accidental Injuries And Poisoning','E939':'Accidental Injuries And Poisoning','E941':'Accidental Injuries And Poisoning','E942':'Accidental Injuries And Poisoning','E943':'Accidental Injuries And Poisoning','E944':'Accidental Injuries And Poisoning','E945':'Accidental Injuries And Poisoning','E946':'Accidental Injuries And Poisoning','E947':'Accidental Injuries And Poisoning','E949':'Accidental Injuries And Poisoning','E950':'Accidental Injuries And Poisoning','E955':'Accidental Injuries And Poisoning','E956':'Accidental Injuries And Poisoning','E965':'Accidental Injuries And Poisoning','E966':'Accidental Injuries And Poisoning','E980':'Accidental Injuries And Poisoning','E987':'Accidental Injuries And Poisoning','V01':'Factors Influencing Health Status And Contact With Health Services','V02':'Factors Influencing Health Status And Contact With Health Services','V03':'Factors Influencing Health Status And Contact With Health Services','V06':'Factors Influencing Health Status And Contact With Health Services','V07':'Factors Influencing Health Status And Contact With Health Services','V08':'Factors Influencing Health Status And Contact With Health Services','V09':'Factors Influencing Health Status And Contact With Health Services','V10':'Factors Influencing Health Status And Contact With Health Services','V11':'Factors Influencing Health Status And Contact With Health Services','V12':'Factors Influencing Health Status And Contact With Health Services','V13':'Factors Influencing Health Status And Contact With Health Services','V14':'Factors Influencing Health Status And Contact With Health Services','V15':'Factors Influencing Health Status And Contact With Health Services','V16':'Factors Influencing Health Status And Contact With Health Services','V17':'Factors Influencing Health Status And Contact With Health Services','V18':'Factors Influencing Health Status And Contact With Health Services','V22':'Factors Influencing Health Status And Contact With Health Services','V23':'Factors Influencing Health Status And Contact With Health Services','V25':'Factors Influencing Health Status And Contact With Health Services','V27':'Factors Influencing Health Status And Contact With Health Services','V42':'Factors Influencing Health Status And Contact With Health Services','V43':'Factors Influencing Health Status And Contact With Health Services','V44':'Factors Influencing Health Status And Contact With Health Services','V45':'Factors Influencing Health Status And Contact With Health Services','V46':'Factors Influencing Health Status And Contact With Health Services','V49':'Factors Influencing Health Status And Contact With Health Services','V53':'Factors Influencing Health Status And Contact With Health Services','V54':'Factors Influencing Health Status And Contact With Health Services','V55':'Factors Influencing Health Status And Contact With Health Services','V57':'Factors Influencing Health Status And Contact With Health Services','V58':'Factors Influencing Health Status And Contact With Health Services','V60':'Factors Influencing Health Status And Contact With Health Services','V61':'Factors Influencing Health Status And Contact With Health Services','V62':'Factors Influencing Health Status And Contact With Health Services','V63':'Factors Influencing Health Status And Contact With Health Services','V64':'Factors Influencing Health Status And Contact With Health Services','V65':'Factors Influencing Health Status And Contact With Health Services','V66':'Factors Influencing Health Status And Contact With Health Services','V70':'Factors Influencing Health Status And Contact With Health Services','V72':'Factors Influencing Health Status And Contact With Health Services','V85':'Factors Influencing Health Status And Contact With Health Services','V86':'Factors Influencing Health Status And Contact With Health Services','No diagnosis done':'No Diagnosis Done'}"
      ],
      "execution_count": null,
      "outputs": [
        {
          "output_type": "stream",
          "text": [
            "time: 15 ms\n"
          ],
          "name": "stdout"
        }
      ]
    },
    {
      "cell_type": "code",
      "metadata": {
        "id": "8leJmgtXGB2k",
        "colab_type": "code",
        "colab": {}
      },
      "source": [
        ""
      ],
      "execution_count": null,
      "outputs": []
    }
  ]
}